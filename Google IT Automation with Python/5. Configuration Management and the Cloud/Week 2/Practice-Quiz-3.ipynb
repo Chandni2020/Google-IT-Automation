{
 "cells": [
  {
   "cell_type": "markdown",
   "id": "715fb22c",
   "metadata": {},
   "source": [
    "# Practice Quiz 3: Updating Deployments"
   ]
  },
  {
   "cell_type": "markdown",
   "id": "0f0f2bd4",
   "metadata": {},
   "source": [
    "## 1.What is a production environment in Puppet?\n",
    "The parts of the infrastructure where a service is executed, and served to its users.\n",
    "\n",
    "## 2.What is the --noop parameter used for?\n",
    "Simulating manifest evaluation without taking any actions\n",
    "\n",
    "## 3.What do rspec tests do?\n",
    "Check the manifests for specific content\n",
    "\n",
    "## 4.How are canary environments used in testing?\n",
    "As a test environment to detect problems before they reach the production environment\n",
    "\n",
    "## 5.What are efficient ways to check the syntax of the manifest? (Check all that apply)\n",
    "Run full No Operations simulations\n",
    "\n",
    "Run rspec tests\n",
    "\n",
    "puppet parser validate"
   ]
  }
 ],
 "metadata": {
  "kernelspec": {
   "display_name": "Python 3 (ipykernel)",
   "language": "python",
   "name": "python3"
  },
  "language_info": {
   "codemirror_mode": {
    "name": "ipython",
    "version": 3
   },
   "file_extension": ".py",
   "mimetype": "text/x-python",
   "name": "python",
   "nbconvert_exporter": "python",
   "pygments_lexer": "ipython3",
   "version": "3.9.7"
  }
 },
 "nbformat": 4,
 "nbformat_minor": 5
}
