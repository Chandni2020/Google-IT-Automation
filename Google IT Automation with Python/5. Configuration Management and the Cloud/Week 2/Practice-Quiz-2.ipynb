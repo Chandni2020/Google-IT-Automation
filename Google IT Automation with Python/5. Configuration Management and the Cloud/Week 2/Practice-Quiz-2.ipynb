{
 "cells": [
  {
   "cell_type": "markdown",
   "id": "5a056172",
   "metadata": {},
   "source": [
    "# Practice Quiz 2: Deploying Puppet to Clients"
   ]
  },
  {
   "cell_type": "markdown",
   "id": "5e2fda8c",
   "metadata": {},
   "source": [
    "## 1.When defining nodes, how do we identify a specific node that we want to set rules for?\n",
    "By specifying the node's Fully Qualified Domain Names (FQDNs)\n",
    "\n",
    "## 2.When a Puppet agent evaluates the state of each component in the manifest, it uses gathered facts about the system to decide which rules to apply. What tool can these facts be \"plugged into\" in order to simplify management of the content of our Puppet configuration files?\n",
    "Templates\n",
    "\n",
    "## 3.What is the first thing that happens after a node connects to the Puppet master for the first time?\n",
    "The node requests a certificate.\n",
    "\n",
    "## 4.What does FQDN stand for, and what is it?\n",
    "Fully Qualified Domain Name, which is the full address for a node\n",
    "\n",
    "## 5.What type of cryptographic security framework does Puppet use to authenticate individual nodes?\n",
    "Public Key Infrastructure (PKI)"
   ]
  }
 ],
 "metadata": {
  "kernelspec": {
   "display_name": "Python 3 (ipykernel)",
   "language": "python",
   "name": "python3"
  },
  "language_info": {
   "codemirror_mode": {
    "name": "ipython",
    "version": 3
   },
   "file_extension": ".py",
   "mimetype": "text/x-python",
   "name": "python",
   "nbconvert_exporter": "python",
   "pygments_lexer": "ipython3",
   "version": "3.9.7"
  }
 },
 "nbformat": 4,
 "nbformat_minor": 5
}
