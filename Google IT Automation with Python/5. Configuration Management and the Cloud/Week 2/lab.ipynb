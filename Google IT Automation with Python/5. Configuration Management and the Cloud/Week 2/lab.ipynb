{
 "cells": [
  {
   "cell_type": "code",
   "execution_count": null,
   "id": "92fca33d",
   "metadata": {},
   "outputs": [],
   "source": [
    "# Install packages\n",
    "cd /etc/puppet/code/environments/production/modules/packages\n",
    "cat manifests/init.pp\n",
    "sudo chmod 646 manifests/init.pp\n",
    "\n",
    "# update init.pp content\n",
    "\n",
    "# This command outputs the external IP address of linux-instance. \n",
    "gcloud compute instances describe linux-instance --zone=us-central1-a --format='get(networkInterfaces[0].accessConfigs[0].natIP)'\n",
    "sudo puppet agent -v --test\n",
    "apt policy golang\n",
    "\n",
    "\n",
    "\n",
    "#Fetch machine information\n",
    "cd /etc/puppet/code/environments/production/modules/machine_info\n",
    "cat manifests/init.pp\n",
    "sudo chmod 646 manifests/init.pp\n",
    "\n",
    "cat templates/info.erb\n",
    "sudo chmod 646 templates/info.erb\n",
    "\n",
    "sudo puppet agent -v --test\n",
    "cat /tmp/machine_info.txt\n",
    "\n",
    "#Reboot machine\n",
    "sudo mkdir -p /etc/puppet/code/environments/production/modules/reboot/manifests\n",
    "cd /etc/puppet/code/environments/production/modules/reboot/manifests\n",
    "sudo touch init.pp\n",
    "sudo nano init.pp\n",
    "\n",
    "sudo nano /etc/puppet/code/environments/production/manifests/site.pp\n",
    "\n",
    "#Run the client on linux-instance VM terminal\n",
    "sudo puppet agent -v --test\n",
    "\n",
    "\n"
   ]
  }
 ],
 "metadata": {
  "kernelspec": {
   "display_name": "Python 3 (ipykernel)",
   "language": "python",
   "name": "python3"
  },
  "language_info": {
   "codemirror_mode": {
    "name": "ipython",
    "version": 3
   },
   "file_extension": ".py",
   "mimetype": "text/x-python",
   "name": "python",
   "nbconvert_exporter": "python",
   "pygments_lexer": "ipython3",
   "version": "3.9.7"
  }
 },
 "nbformat": 4,
 "nbformat_minor": 5
}
