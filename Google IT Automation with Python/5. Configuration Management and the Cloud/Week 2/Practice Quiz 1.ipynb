{
 "cells": [
  {
   "cell_type": "markdown",
   "id": "006bab34",
   "metadata": {},
   "source": [
    "# Practice Quiz: Deploying Puppet Locally"
   ]
  },
  {
   "cell_type": "markdown",
   "id": "b5491549",
   "metadata": {},
   "source": [
    "## 1.Puppet evaluates all functions, conditionals, and variables for each individual system, and generates a list of rules for that specific system. What are these individual lists of rules called?\n",
    "Catalogs\n",
    "\n",
    "## 2.After we install new modules that were made and shared by others, which folder in the module's directory will contain the new functions and facts?\n",
    "lib\n",
    "\n",
    "## 3.What file extension do manifest files use?\n",
    ".pp\n",
    "\n",
    "## 4.What is contained in the metadata.json file of a Puppet module?\n",
    "Additional data about the module\n",
    "\n",
    "## 5.What does Puppet syntax dictate we do when referring to another resource attribute?\n",
    "Capitalize the attribute"
   ]
  }
 ],
 "metadata": {
  "kernelspec": {
   "display_name": "Python 3 (ipykernel)",
   "language": "python",
   "name": "python3"
  },
  "language_info": {
   "codemirror_mode": {
    "name": "ipython",
    "version": 3
   },
   "file_extension": ".py",
   "mimetype": "text/x-python",
   "name": "python",
   "nbconvert_exporter": "python",
   "pygments_lexer": "ipython3",
   "version": "3.9.7"
  }
 },
 "nbformat": 4,
 "nbformat_minor": 5
}
