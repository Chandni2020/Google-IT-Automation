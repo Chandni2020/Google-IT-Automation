{
 "cells": [
  {
   "cell_type": "markdown",
   "id": "f2df1a9c",
   "metadata": {},
   "source": [
    "# Practice Quiz 1: Building Software for the Cloud"
   ]
  },
  {
   "cell_type": "markdown",
   "id": "63f69abb",
   "metadata": {},
   "source": [
    "## 1.What is latency in terms of Cloud storage?\n",
    "The amount of time it takes to complete a read or write operation.\n",
    "\n",
    "## 2.Which of the following statements about sticky sessions are true? (Select all that apply.)\n",
    "All requests from the same client always go to the same backend server.\n",
    "\n",
    "They should only be used when needed.\n",
    "\n",
    "They can cause problems during migration.\n",
    "\n",
    "## 3.If you run into limitations such as rate limits or utilization limits, you should contact the Cloud provider and ask for a _____.\n",
    "Quota increase\n",
    "\n",
    "## 4.What is the term referring to everything needed to run a service?\n",
    "Environment\n",
    "\n",
    "## 5.What is the term referring to a network of hosts spread in different geographical locations, allowing ISPs to be as close as possible to content?\n",
    "Content delivery network"
   ]
  }
 ],
 "metadata": {
  "kernelspec": {
   "display_name": "Python 3 (ipykernel)",
   "language": "python",
   "name": "python3"
  },
  "language_info": {
   "codemirror_mode": {
    "name": "ipython",
    "version": 3
   },
   "file_extension": ".py",
   "mimetype": "text/x-python",
   "name": "python",
   "nbconvert_exporter": "python",
   "pygments_lexer": "ipython3",
   "version": "3.9.7"
  }
 },
 "nbformat": 4,
 "nbformat_minor": 5
}
