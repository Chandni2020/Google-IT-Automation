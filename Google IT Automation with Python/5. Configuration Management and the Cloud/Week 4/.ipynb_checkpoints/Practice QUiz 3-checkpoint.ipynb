{
 "cells": [
  {
   "cell_type": "markdown",
   "id": "f16960ba",
   "metadata": {},
   "source": [
    "# Practice Quiz 3: Troubleshooting & Debugging"
   ]
  },
  {
   "cell_type": "markdown",
   "id": "0a97f915",
   "metadata": {},
   "source": [
    "## 1.Which of the following are valid strategies for recovery after encountering service failure? (Select all that apply.)\n",
    "Switching to a secondary instance.\n",
    "\n",
    "Restoring from backup.\n",
    "\n",
    "Performing a rollback to a previous version.\n",
    "\n",
    "## 2.Which of the following concepts provide redundancy? (Select all that apply.)\n",
    "Having a secondary instance of a VM.\n",
    "\n",
    "Having a secondary Cloud vendor.\n",
    "\n",
    "## 3.If you operate a service that stores any kind of data, what are some critical steps to ensure disaster recovery? (Select all that apply)\n",
    "Implement automated backups\n",
    "\n",
    "Test backups by restoring\n",
    "\n",
    "## 4.What is the correct term for packaged applications that are shipped with all needed libraries and dependencies, and allows the application to run in isolation?\n",
    "Containers\n",
    "\n",
    "## 5.Using a large variety of containerized applications can get complicated and messy. What are some important tips for solving problems when using containers? (Select all that apply)\n",
    "Use extensive logging in all parts\n",
    "\n",
    "Use test instances"
   ]
  }
 ],
 "metadata": {
  "kernelspec": {
   "display_name": "Python 3 (ipykernel)",
   "language": "python",
   "name": "python3"
  },
  "language_info": {
   "codemirror_mode": {
    "name": "ipython",
    "version": 3
   },
   "file_extension": ".py",
   "mimetype": "text/x-python",
   "name": "python",
   "nbconvert_exporter": "python",
   "pygments_lexer": "ipython3",
   "version": "3.9.7"
  }
 },
 "nbformat": 4,
 "nbformat_minor": 5
}
