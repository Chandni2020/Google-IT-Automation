{
 "cells": [
  {
   "cell_type": "markdown",
   "id": "a5cfbfca",
   "metadata": {},
   "source": [
    "# Practice Quiz 2: Monitoring & Alerting"
   ]
  },
  {
   "cell_type": "markdown",
   "id": "7f1f1c06",
   "metadata": {},
   "source": [
    "## 1.What is a Service Level Agreement?\n",
    "A strict commitment between a provider and a client.\n",
    "\n",
    "## 2.What is the most important aspect of an alert?\n",
    "It must be actionable.\n",
    "\n",
    "## 3.Which part of an HTTP message from a web server is useful for tracking the overall status of the response and can be monitored and logged?\n",
    "The response code in the server's message\n",
    "\n",
    "## 4.To set up a new alert, we have to configure the _____ that triggers the alert.\n",
    "Condition\n",
    "\n",
    "## 5.When we collect metrics from inside a system, this is known as ______ monitoring.\n",
    "White-box"
   ]
  }
 ],
 "metadata": {
  "kernelspec": {
   "display_name": "Python 3 (ipykernel)",
   "language": "python",
   "name": "python3"
  },
  "language_info": {
   "codemirror_mode": {
    "name": "ipython",
    "version": 3
   },
   "file_extension": ".py",
   "mimetype": "text/x-python",
   "name": "python",
   "nbconvert_exporter": "python",
   "pygments_lexer": "ipython3",
   "version": "3.9.7"
  }
 },
 "nbformat": 4,
 "nbformat_minor": 5
}
