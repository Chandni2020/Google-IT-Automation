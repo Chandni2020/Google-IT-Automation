{
 "cells": [
  {
   "cell_type": "code",
   "execution_count": null,
   "id": "ff108166",
   "metadata": {},
   "outputs": [],
   "source": [
    "sudo systemctl status apache2\n",
    "\n",
    "sudo systemctl restart apache2\n",
    "\n",
    "sudo systemctl status apache2\n",
    "\n",
    "sudo netstat -nlp\n",
    "\n",
    "ps -ax | grep python3\n",
    "\n",
    "cat /usr/local/bin/jimmytest.py\n",
    "\n",
    "sudo kill [process-id]\n",
    "\n",
    "ps -ax | grep python3\n",
    "\n",
    "sudo systemctl --type=service | grep jimmy\n",
    "\n",
    "sudo systemctl stop jimmytest && sudo systemctl disable jimmytest\n",
    "\n",
    "sudo netstat -nlp\n",
    "\n",
    "sudo systemctl start apache2"
   ]
  }
 ],
 "metadata": {
  "kernelspec": {
   "display_name": "Python 3 (ipykernel)",
   "language": "python",
   "name": "python3"
  },
  "language_info": {
   "codemirror_mode": {
    "name": "ipython",
    "version": 3
   },
   "file_extension": ".py",
   "mimetype": "text/x-python",
   "name": "python",
   "nbconvert_exporter": "python",
   "pygments_lexer": "ipython3",
   "version": "3.9.7"
  }
 },
 "nbformat": 4,
 "nbformat_minor": 5
}
