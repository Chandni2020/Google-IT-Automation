{
 "cells": [
  {
   "cell_type": "markdown",
   "id": "fe902b3d",
   "metadata": {},
   "source": [
    "# Practice Quiz 2: Introduction to Puppet"
   ]
  },
  {
   "cell_type": "markdown",
   "id": "0cf9f9e0",
   "metadata": {},
   "source": [
    "## 1.A Puppet agent inspects /etc/conf.d, determines the OS to be Gentoo Linux, then activates the Portage package manager. What is the provider in this scenario?\n",
    "Portage\n",
    "\n"
   ]
  },
  {
   "cell_type": "markdown",
   "id": "01c1edf1",
   "metadata": {},
   "source": [
    "## 2.Which of the following examples show proper Puppet syntax?"
   ]
  },
  {
   "cell_type": "code",
   "execution_count": null,
   "id": "aad49504",
   "metadata": {},
   "outputs": [],
   "source": [
    "class AutoConfig{\n",
    "  package { 'Executable':\n",
    "    ensure => latest,\n",
    "  }\n",
    "  file { 'executable.cfg':\n",
    "    source => 'puppet:///modules/executable/Autoconfig/executable.cfg'\n",
    "    replace => true,\n",
    "  }\n",
    "  service { 'executable.exe':\n",
    "    enable  => true,\n",
    "    ensure  => running,\n",
    "  }\n",
    "}"
   ]
  },
  {
   "cell_type": "markdown",
   "id": "904ff4f5",
   "metadata": {},
   "source": [
    "## 3.What is the benefit of grouping resources into classes when using Puppet?\n",
    "Configuration management is simplified\n",
    "\n",
    "## 4.What defines which provider will be used for a particular resource?\n",
    "Puppet assigns providers based on the resource type and data collected from the system.\n",
    "\n",
    "## 5.In Puppet’s file resource type, which attribute overwrites content that already exists?\n",
    "Replace"
   ]
  }
 ],
 "metadata": {
  "kernelspec": {
   "display_name": "Python 3 (ipykernel)",
   "language": "python",
   "name": "python3"
  },
  "language_info": {
   "codemirror_mode": {
    "name": "ipython",
    "version": 3
   },
   "file_extension": ".py",
   "mimetype": "text/x-python",
   "name": "python",
   "nbconvert_exporter": "python",
   "pygments_lexer": "ipython3",
   "version": "3.9.7"
  }
 },
 "nbformat": 4,
 "nbformat_minor": 5
}
