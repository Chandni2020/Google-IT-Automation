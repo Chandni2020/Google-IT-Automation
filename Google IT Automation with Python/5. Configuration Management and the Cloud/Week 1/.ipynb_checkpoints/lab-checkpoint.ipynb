{
 "cells": [
  {
   "cell_type": "code",
   "execution_count": null,
   "id": "4c8ccb63",
   "metadata": {},
   "outputs": [],
   "source": [
    "echo $PATH\n",
    "\n",
    "ls /\n",
    "\n",
    "export PATH=/bin:/usr/bin\n",
    "\n",
    "ls /\n",
    "\n",
    "cd /etc/puppet/code/environments/production/modules/profile/manifests\n",
    "\n",
    "cat init.pp\n",
    "\n",
    "\n",
    "sudo nano init.pp\n",
    "\n",
    "# content => \"PATH=\\$PATH:/java/bin\\n\",\n",
    "# mode => '0644',\n",
    "\n",
    "sudo puppet agent -v --test\n",
    "\n",
    "echo $PATH"
   ]
  }
 ],
 "metadata": {
  "kernelspec": {
   "display_name": "Python 3 (ipykernel)",
   "language": "python",
   "name": "python3"
  },
  "language_info": {
   "codemirror_mode": {
    "name": "ipython",
    "version": 3
   },
   "file_extension": ".py",
   "mimetype": "text/x-python",
   "name": "python",
   "nbconvert_exporter": "python",
   "pygments_lexer": "ipython3",
   "version": "3.9.7"
  }
 },
 "nbformat": 4,
 "nbformat_minor": 5
}
