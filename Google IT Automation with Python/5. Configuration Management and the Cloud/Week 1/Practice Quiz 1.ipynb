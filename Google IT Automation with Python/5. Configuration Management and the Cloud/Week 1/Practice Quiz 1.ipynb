{
 "cells": [
  {
   "cell_type": "markdown",
   "id": "ca47d1a6",
   "metadata": {},
   "source": [
    "# Practice Quiz: Automation at Scale"
   ]
  },
  {
   "cell_type": "markdown",
   "id": "79a813bd",
   "metadata": {},
   "source": [
    "## 1.What is IaC (Infrastructure as Code)?\n",
    "Using a version control system to deploy and manage node configurations\n",
    "\n",
    "## 2.What is the principle called when you think of networked machines as interchangeable resources instead of individual machines?\n",
    "Treating computers like \"cattle instead of pets\"\n",
    "\n",
    "## 3.What benefits can we gain by using automation to manage our configuration? (Check all that apply)\n",
    "Consistency\n",
    "\n",
    "Reliability\n",
    "\n",
    "Scalability\n",
    "\n",
    "## 4.Puppet is a commonly used configuration management system. Which of the following applications are also used for configuration management?\n",
    "Chef\n",
    "\n",
    "Ansible\n",
    "\n",
    "CFEngine\n",
    "\n",
    "## 5.A network administrator is accustomed to manually configuring the 5 nodes on the network he manages. However, the company he works for is quickly growing, and there are plans to expand the network to 200 nodes. What is the most reasonable course of action for the network administrator?\n",
    "Prepare scripts or download software for automated configuration"
   ]
  }
 ],
 "metadata": {
  "kernelspec": {
   "display_name": "Python 3 (ipykernel)",
   "language": "python",
   "name": "python3"
  },
  "language_info": {
   "codemirror_mode": {
    "name": "ipython",
    "version": 3
   },
   "file_extension": ".py",
   "mimetype": "text/x-python",
   "name": "python",
   "nbconvert_exporter": "python",
   "pygments_lexer": "ipython3",
   "version": "3.9.7"
  }
 },
 "nbformat": 4,
 "nbformat_minor": 5
}
