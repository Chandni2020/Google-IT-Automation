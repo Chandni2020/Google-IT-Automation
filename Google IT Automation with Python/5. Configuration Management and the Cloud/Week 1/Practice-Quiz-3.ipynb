{
 "cells": [
  {
   "cell_type": "markdown",
   "id": "6e0dc64f",
   "metadata": {},
   "source": [
    "# Practice Quiz: The Building Blocks of Configuration Management"
   ]
  },
  {
   "cell_type": "markdown",
   "id": "377a440f",
   "metadata": {},
   "source": [
    "## 1.How is a declarative language different from a procedural language?\n",
    "A declarative language defines the goal; a procedural language defines the steps to achieve a goal.\n",
    "\n",
    "## 2.Puppet facts are stored in hashes. If we wanted to use a conditional statement to perform a specific action based on a fact value, what symbol must precede the facts variable for the Puppet DSL to recognize it?\n",
    "$\n",
    "\n",
    "## 3.What does it mean that Puppet is stateless?\n",
    "There is no state being kept between runs of the agent.\n",
    "\n",
    "## 4.What does the \"test and repair\" paradigm mean in practice?\n",
    "We should only take actions when testing determines they need to be done to reach the requested state\n",
    "\n",
    "## 5.Where, in Puppet syntax, are the attributes of a resource found?\n",
    "Inside the curly braces after the resource type"
   ]
  }
 ],
 "metadata": {
  "kernelspec": {
   "display_name": "Python 3 (ipykernel)",
   "language": "python",
   "name": "python3"
  },
  "language_info": {
   "codemirror_mode": {
    "name": "ipython",
    "version": 3
   },
   "file_extension": ".py",
   "mimetype": "text/x-python",
   "name": "python",
   "nbconvert_exporter": "python",
   "pygments_lexer": "ipython3",
   "version": "3.9.7"
  }
 },
 "nbformat": 4,
 "nbformat_minor": 5
}
