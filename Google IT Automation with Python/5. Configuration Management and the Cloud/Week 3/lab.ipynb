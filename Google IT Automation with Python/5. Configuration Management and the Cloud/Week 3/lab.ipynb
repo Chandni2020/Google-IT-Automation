{
 "cells": [
  {
   "cell_type": "code",
   "execution_count": null,
   "id": "fcf337f1",
   "metadata": {},
   "outputs": [],
   "source": [
    "git clone https://www.github.com/google/it-cert-automation-practice.git\n",
    "cd ~/it-cert-automation-practice/Course5/Lab3\n",
    "ls\n",
    "sudo cp hello_cloud.py /usr/local/bin/\n",
    "sudo cp hello_cloud.service /etc/systemd/system\n",
    "sudo systemctl enable hello_cloud.service\n",
    "\n",
    "\n",
    "\n",
    "gcloud compute instances create --zone us-west1-b --source-instance-template vm1-template vm2 vm3 vm4 vm5 vm6 vm7 vm8\n",
    "\n",
    "gcloud compute instances list"
   ]
  }
 ],
 "metadata": {
  "kernelspec": {
   "display_name": "Python 3 (ipykernel)",
   "language": "python",
   "name": "python3"
  },
  "language_info": {
   "codemirror_mode": {
    "name": "ipython",
    "version": 3
   },
   "file_extension": ".py",
   "mimetype": "text/x-python",
   "name": "python",
   "nbconvert_exporter": "python",
   "pygments_lexer": "ipython3",
   "version": "3.9.7"
  }
 },
 "nbformat": 4,
 "nbformat_minor": 5
}
