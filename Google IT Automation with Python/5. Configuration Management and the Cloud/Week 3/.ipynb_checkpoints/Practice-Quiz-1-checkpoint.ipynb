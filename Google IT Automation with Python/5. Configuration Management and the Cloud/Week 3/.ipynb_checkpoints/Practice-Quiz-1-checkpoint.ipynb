{
 "cells": [
  {
   "cell_type": "markdown",
   "id": "7fd5d67d",
   "metadata": {},
   "source": [
    "# Practice Quiz 1: Cloud Computing\n"
   ]
  },
  {
   "cell_type": "markdown",
   "id": "e0ad06bc",
   "metadata": {},
   "source": [
    "# 1.When we use cloud services provided to the general consumer, such as Google Suite or Gmail, what cloud deployment model are we using?\n",
    "Public cloud\n",
    "\n",
    "# 2.What is a container?\n",
    "A virtualized environment containing applications and configurations that can run quickly and reliably on any computing environment\n",
    "\n",
    "# 3.Select the examples of Managed Web Application Platforms. (Check all that apply)\n",
    "Google App Engine.\n",
    "\n",
    "Amazon Elastic Beanstalk\n",
    "\n",
    "Microsoft App Service.\n",
    "\n",
    "# 4.When a company solely owns and manages its own cloud infrastructure, what type of cloud deployment model are they using?\n",
    "Private cloud\n",
    "\n",
    "# 5.Which \"direction\" are we scaling when we add RAM or CPU resources to individual nodes?\n",
    "Vertical"
   ]
  }
 ],
 "metadata": {
  "kernelspec": {
   "display_name": "Python 3 (ipykernel)",
   "language": "python",
   "name": "python3"
  },
  "language_info": {
   "codemirror_mode": {
    "name": "ipython",
    "version": 3
   },
   "file_extension": ".py",
   "mimetype": "text/x-python",
   "name": "python",
   "nbconvert_exporter": "python",
   "pygments_lexer": "ipython3",
   "version": "3.9.7"
  }
 },
 "nbformat": 4,
 "nbformat_minor": 5
}
