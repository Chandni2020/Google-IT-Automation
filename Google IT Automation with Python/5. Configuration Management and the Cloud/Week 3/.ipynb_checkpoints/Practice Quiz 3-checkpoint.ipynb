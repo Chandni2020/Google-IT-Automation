{
 "cells": [
  {
   "cell_type": "markdown",
   "id": "54414bb5",
   "metadata": {},
   "source": [
    "# Practice Quiz 3: Automating Cloud Deployments\n"
   ]
  },
  {
   "cell_type": "markdown",
   "id": "fb79d946",
   "metadata": {},
   "source": [
    "## 1.In order to detect and correct errors before end users are affected, what technique(s) should we set up?\n",
    "Monitoring and alerting\n",
    "\n",
    "## 2.When accessing a website, your web browser retrieves the IP address of a specific node in order to load the site. What is this node called?\n",
    "Entry point\n",
    "\n",
    "## 3.What simple load-balancing technique just assigns to each node one request at a time?\n",
    "Round Robin\n",
    "\n",
    "## 4.Which cloud automation technique spins up more VMs into instance groups when demand increases, and shuts down VMs when demand decreases?\n",
    "Autoscaling\n",
    "\n",
    "## 5.Which of the following are examples of orchestration tools used to manage cloud resources as code? (Check all that apply)\n",
    "Terraform\n",
    "\n",
    "CloudFormation\n",
    "\n",
    "Azure Resource Manager"
   ]
  }
 ],
 "metadata": {
  "kernelspec": {
   "display_name": "Python 3 (ipykernel)",
   "language": "python",
   "name": "python3"
  },
  "language_info": {
   "codemirror_mode": {
    "name": "ipython",
    "version": 3
   },
   "file_extension": ".py",
   "mimetype": "text/x-python",
   "name": "python",
   "nbconvert_exporter": "python",
   "pygments_lexer": "ipython3",
   "version": "3.9.7"
  }
 },
 "nbformat": 4,
 "nbformat_minor": 5
}
