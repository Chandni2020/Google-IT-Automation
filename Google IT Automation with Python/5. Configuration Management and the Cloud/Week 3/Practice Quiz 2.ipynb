{
 "cells": [
  {
   "cell_type": "markdown",
   "id": "ecff9210",
   "metadata": {},
   "source": [
    "# Practice Quiz 2: Managing Instances in the Cloud"
   ]
  },
  {
   "cell_type": "markdown",
   "id": "2dd723c1",
   "metadata": {},
   "source": [
    "## 1.What is templating?\n",
    "The process of capturing the entire system configuration to enable us to reproduce virtual machines\n",
    "\n",
    "## 2.Why is it important to consider the region and zone for your cloud service?\n",
    "To ensure bandwidth and reliability for users\n",
    "\n",
    "## 3.What option is used to determine which OS will run on the VM?\n",
    "Boot disk\n",
    "\n",
    "## 4.When setting up a new series of VMs using a reference image, what are some possible options for upgrading services running on our VM at scale?\n",
    "Create a new reference image each update\n",
    "\n",
    "Use a configuration management system like Puppet\n",
    "\n",
    "## 5.When using gcloud to manage VMs, what two parameters tell gcloud that a) we want to manage our VM resources and b) that we want to deal with individual VMs? (Check two)\n",
    "compute\n",
    "\n",
    "instances"
   ]
  },
  {
   "cell_type": "code",
   "execution_count": null,
   "id": "9511028c",
   "metadata": {},
   "outputs": [],
   "source": []
  }
 ],
 "metadata": {
  "kernelspec": {
   "display_name": "Python 3 (ipykernel)",
   "language": "python",
   "name": "python3"
  },
  "language_info": {
   "codemirror_mode": {
    "name": "ipython",
    "version": 3
   },
   "file_extension": ".py",
   "mimetype": "text/x-python",
   "name": "python",
   "nbconvert_exporter": "python",
   "pygments_lexer": "ipython3",
   "version": "3.9.7"
  }
 },
 "nbformat": 4,
 "nbformat_minor": 5
}
