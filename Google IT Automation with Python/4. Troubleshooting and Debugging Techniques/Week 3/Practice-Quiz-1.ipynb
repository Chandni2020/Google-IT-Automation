{
 "cells": [
  {
   "cell_type": "markdown",
   "id": "e6a807cc",
   "metadata": {},
   "source": [
    "# Practice Quiz: Why Programs Crash"
   ]
  },
  {
   "cell_type": "markdown",
   "id": "04fcd07d",
   "metadata": {},
   "source": [
    "## 1.When using Event Viewer on a Windows system, what is the best way to quickly access specific types of logs?\n",
    "Create a custom view\n",
    "\n",
    "## 2.An employee runs an application on a shared office computer, and it crashes. This does not happen to other users on the same computer. After reviewing the application logs, you find that the employee didn’t have access to the application. What log error helped you reach this conclusion?\n",
    "“Permission denied”\n",
    "\n",
    "## 3.What tool can we use to check the health of our RAM?\n",
    "memtest86\n",
    "\n",
    "## 4.You've just finished helping a user work around an issue in an application. What important but easy-to-forget step should we remember to do next?\n",
    "Report the bug to the developers\n",
    "\n",
    "## 5.A user is experiencing strange behavior from their computer. It is running slow and lagging, and having momentary freeze-ups that it does not usually have. The problem seems to be system-wide and not restricted to a particular application. What is the first thing to ask the user as to whether they have tried it?\n",
    "\n",
    "Identified the bottleneck with a resource monitor"
   ]
  },
  {
   "cell_type": "code",
   "execution_count": null,
   "id": "62ad9635",
   "metadata": {},
   "outputs": [],
   "source": []
  }
 ],
 "metadata": {
  "kernelspec": {
   "display_name": "Python 3 (ipykernel)",
   "language": "python",
   "name": "python3"
  },
  "language_info": {
   "codemirror_mode": {
    "name": "ipython",
    "version": 3
   },
   "file_extension": ".py",
   "mimetype": "text/x-python",
   "name": "python",
   "nbconvert_exporter": "python",
   "pygments_lexer": "ipython3",
   "version": "3.9.7"
  }
 },
 "nbformat": 4,
 "nbformat_minor": 5
}
