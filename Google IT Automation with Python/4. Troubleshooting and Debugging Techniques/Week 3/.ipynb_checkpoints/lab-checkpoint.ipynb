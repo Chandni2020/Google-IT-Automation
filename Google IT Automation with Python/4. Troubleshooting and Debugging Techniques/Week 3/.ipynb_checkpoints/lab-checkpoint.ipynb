{
 "cells": [
  {
   "cell_type": "code",
   "execution_count": null,
   "id": "96208e35",
   "metadata": {},
   "outputs": [],
   "source": [
    "# ImportError\n",
    "\n",
    "cd /\n",
    "python3 /usr/bin/infrastructure\n",
    "sudo apt install python3-pip\n",
    "pip3 install matplotlib\n",
    "\n",
    "# NoFileError\n",
    "\n",
    "python3 /usr/bin/infrastructure\n",
    "cd ~\n",
    "ls\n",
    "mv data.bak data.csv\n",
    "\n",
    "\n",
    "# MissingColumnError\n",
    "\n",
    "cat ~/data.csv\n",
    "sudo chmod 777 ~/data.csv\n",
    "nano ~/data.csv\n",
    "# add missing column \"company\"\n",
    "python3 /usr/bin/infrastructure"
   ]
  }
 ],
 "metadata": {
  "kernelspec": {
   "display_name": "Python 3 (ipykernel)",
   "language": "python",
   "name": "python3"
  },
  "language_info": {
   "codemirror_mode": {
    "name": "ipython",
    "version": 3
   },
   "file_extension": ".py",
   "mimetype": "text/x-python",
   "name": "python",
   "nbconvert_exporter": "python",
   "pygments_lexer": "ipython3",
   "version": "3.9.7"
  }
 },
 "nbformat": 4,
 "nbformat_minor": 5
}
