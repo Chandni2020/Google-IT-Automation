{
 "cells": [
  {
   "cell_type": "markdown",
   "id": "24f122d2",
   "metadata": {},
   "source": [
    "# Practice Quiz: Code that Crashes"
   ]
  },
  {
   "cell_type": "markdown",
   "id": "8e8ccb0f",
   "metadata": {},
   "source": [
    "## 1.Which of the following will let code run until a certain line of code is executed?\n",
    "Breakpoints\n",
    "\n",
    "## 2.Which of the following is NOT likely to cause a segmentation fault?\n",
    "RAM replacement\n",
    "\n",
    "## 3.A common error worth keeping in mind happens often when iterating through arrays or other collections, and is often fixed by changing the less than or equal sign in our for loop to be a strictly less than sign. What is this common error known as?\n",
    "Off-by-one error\n",
    "\n",
    "## 4.A very common method of debugging is to add print statements to our code that display information, such as contents of variables, custom error statements, or return values of functions. What is this type of debugging called?\n",
    "Printf debugging\n",
    "\n",
    "## 5.When a process crashes, the operating system may generate a file containing information about the state of the process in memory to help the developer debug the program later. What are these files called?\n",
    "Core files"
   ]
  }
 ],
 "metadata": {
  "kernelspec": {
   "display_name": "Python 3 (ipykernel)",
   "language": "python",
   "name": "python3"
  },
  "language_info": {
   "codemirror_mode": {
    "name": "ipython",
    "version": 3
   },
   "file_extension": ".py",
   "mimetype": "text/x-python",
   "name": "python",
   "nbconvert_exporter": "python",
   "pygments_lexer": "ipython3",
   "version": "3.9.7"
  }
 },
 "nbformat": 4,
 "nbformat_minor": 5
}
