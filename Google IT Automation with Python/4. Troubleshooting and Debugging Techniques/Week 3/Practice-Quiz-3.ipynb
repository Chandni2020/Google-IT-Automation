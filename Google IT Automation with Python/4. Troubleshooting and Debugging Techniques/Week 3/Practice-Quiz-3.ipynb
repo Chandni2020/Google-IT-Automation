{
 "cells": [
  {
   "cell_type": "markdown",
   "id": "efa35fa0",
   "metadata": {},
   "source": [
    "# Practice Quiz: Handling Bigger Incidents"
   ]
  },
  {
   "cell_type": "markdown",
   "id": "5fcd27dd",
   "metadata": {},
   "source": [
    "## 1.Which of the following would be effective in resolving a large issue if it happens again in the future?\n",
    "Postmortem\n",
    "\n",
    "## 2.During peak hours, users have reported issues connecting to a website. The website is hosted by two load balancing servers in the cloud and are connected to an external SQL database. Logs on both servers show an increase in CPU and RAM usage. What may be the most effective way to resolve this issue with a complex set of servers?\n",
    "Automate deployment of additional servers\n",
    "\n",
    "## 3.It has become increasingly common to use cloud services and virtualization. Which kind of fix, in particular, does virtual cloud deployment speed up and simplify?\n",
    "Deployment of new servers\n",
    "\n",
    "## 4.What should we include in our postmortem? (Check all that apply)\n",
    "Root cause of the issue\n",
    "\n",
    "How we diagnosed the problem\n",
    "\n",
    "How we fixed the problem\n",
    "\n",
    "## 5.In general, what is the goal of a postmortem? (Check all that apply)\n",
    "To allow prevention in the future\n",
    "\n",
    "To allow speedy remediation of similar issues in the future"
   ]
  }
 ],
 "metadata": {
  "kernelspec": {
   "display_name": "Python 3 (ipykernel)",
   "language": "python",
   "name": "python3"
  },
  "language_info": {
   "codemirror_mode": {
    "name": "ipython",
    "version": 3
   },
   "file_extension": ".py",
   "mimetype": "text/x-python",
   "name": "python",
   "nbconvert_exporter": "python",
   "pygments_lexer": "ipython3",
   "version": "3.9.7"
  }
 },
 "nbformat": 4,
 "nbformat_minor": 5
}
