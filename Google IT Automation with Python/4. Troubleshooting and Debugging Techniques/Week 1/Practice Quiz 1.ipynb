{
 "cells": [
  {
   "cell_type": "markdown",
   "id": "4dd12527",
   "metadata": {},
   "source": [
    "# Practice Quiz: Introduction to Debugging"
   ]
  },
  {
   "cell_type": "markdown",
   "id": "03d98c1f",
   "metadata": {},
   "source": [
    "## 1.What is part of the final step when problem solving?\n",
    "Long-term remediation\n",
    "\n",
    "## 2.Which tool can you use when debugging to look at library calls made by the software?\n",
    "ltrace\n",
    "\n",
    "## 3.What is the first step of problem solving?\n",
    "Gathering information\n",
    "\n",
    "## 4.What software tools are used to analyze network traffic to isolate problems? (Check all that apply)\n",
    "tcpdump\n",
    "\n",
    "wireshark\n",
    "\n",
    "## 5.The strace (in Linux) tool allows us to see all of the _____ our program has made.\n",
    "System calls"
   ]
  }
 ],
 "metadata": {
  "kernelspec": {
   "display_name": "Python 3 (ipykernel)",
   "language": "python",
   "name": "python3"
  },
  "language_info": {
   "codemirror_mode": {
    "name": "ipython",
    "version": 3
   },
   "file_extension": ".py",
   "mimetype": "text/x-python",
   "name": "python",
   "nbconvert_exporter": "python",
   "pygments_lexer": "ipython3",
   "version": "3.9.7"
  }
 },
 "nbformat": 4,
 "nbformat_minor": 5
}
