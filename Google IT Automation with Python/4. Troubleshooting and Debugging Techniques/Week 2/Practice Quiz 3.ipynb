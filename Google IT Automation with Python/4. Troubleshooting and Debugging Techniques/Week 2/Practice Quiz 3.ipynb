{
 "cells": [
  {
   "cell_type": "markdown",
   "id": "bd082f86",
   "metadata": {},
   "source": [
    "# Practice Quiz 3: When Slowness Problems Get Complex"
   ]
  },
  {
   "cell_type": "markdown",
   "id": "5369bcc9",
   "metadata": {},
   "source": [
    "## 1.Which of the following can cache database queries in memory for faster processing of automated tasks?\n",
    "Memcached\n",
    "\n",
    "## 2.What module specifies parts of a code to run in separate asynchronous events?\n",
    "Asyncio\n",
    "\n",
    "## 3.Which of the following allows our program to run multiple instructions in parallel?\n",
    "Threading\n",
    "\n",
    "## 4.What is the name of the field of study in computer science that concerns itself with writing programs and operations that run in parallel efficiently?\n",
    "Concurrency\n",
    "\n",
    "## 5.What would we call a program that often leaves our CPU with little to do as it waits on data from a local disk and the Internet?\n",
    "I/O bound"
   ]
  }
 ],
 "metadata": {
  "kernelspec": {
   "display_name": "Python 3 (ipykernel)",
   "language": "python",
   "name": "python3"
  },
  "language_info": {
   "codemirror_mode": {
    "name": "ipython",
    "version": 3
   },
   "file_extension": ".py",
   "mimetype": "text/x-python",
   "name": "python",
   "nbconvert_exporter": "python",
   "pygments_lexer": "ipython3",
   "version": "3.9.7"
  }
 },
 "nbformat": 4,
 "nbformat_minor": 5
}
