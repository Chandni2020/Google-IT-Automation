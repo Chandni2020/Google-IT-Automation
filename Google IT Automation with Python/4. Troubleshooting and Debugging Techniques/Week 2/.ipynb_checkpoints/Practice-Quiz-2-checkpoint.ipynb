{
 "cells": [
  {
   "cell_type": "markdown",
   "id": "526f77ce",
   "metadata": {},
   "source": [
    "# Practice Quiz: Slow Code"
   ]
  },
  {
   "cell_type": "markdown",
   "id": "d8554084",
   "metadata": {},
   "source": [
    "## 1.Which of the following is NOT considered an expensive operation?\n",
    "Using a dictionary\n",
    "\n",
    "## 2.Which of the following may be the most expensive to carry out in most automation tasks in a script?\n",
    "Loops\n",
    "\n",
    "## 3.Which of the following statements represents the most sound advice when writing scripts?\n",
    "Start by writing clear code, then speed it up only if necessary\n",
    "\n",
    "## 4.In Python, what is a data structure that stores multiple pieces of data, in order, which can be changed later?\n",
    "Lists\n",
    "\n",
    "## 5.What command, keyword, module, or tool can be used to measure the amount of time it takes for an operation or program to execute? (Check all that apply)\n",
    "time\n",
    "\n",
    "kcachegrind\n",
    "\n",
    "cProfile"
   ]
  }
 ],
 "metadata": {
  "kernelspec": {
   "display_name": "Python 3 (ipykernel)",
   "language": "python",
   "name": "python3"
  },
  "language_info": {
   "codemirror_mode": {
    "name": "ipython",
    "version": 3
   },
   "file_extension": ".py",
   "mimetype": "text/x-python",
   "name": "python",
   "nbconvert_exporter": "python",
   "pygments_lexer": "ipython3",
   "version": "3.9.7"
  }
 },
 "nbformat": 4,
 "nbformat_minor": 5
}
