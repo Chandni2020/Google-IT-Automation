{
 "cells": [
  {
   "cell_type": "code",
   "execution_count": null,
   "id": "ff91705d",
   "metadata": {},
   "outputs": [],
   "source": [
    "sudo apt install python3-pip\n",
    "\n",
    "pip3 install psutil\n",
    "\n",
    "python3\n",
    "\n",
    "import psutil\n",
    "psutil.cpu_percent()\n",
    "\n",
    "psutil.disk_io_counters()\n",
    "psutil.net_io_counters()\n",
    "\n",
    "exit()\n",
    "\n",
    "# rsync [Options] [Source-Files-Dir] [Destination]\n",
    "\n",
    "# Some of the commonly used options in rsync command are listed below:\n",
    "\n",
    "# Options Uses\n",
    "# -v      Verbose output\n",
    "# -q      Suppress message output\n",
    "# -a      Archive files and directory while synchronizing\n",
    "# -r      Sync files and directories recursively\n",
    "# -b      Take the backup during synchronization\n",
    "# -z      Compress file data during the transfer\n",
    "\n",
    "\n",
    "# Example:\n",
    "\n",
    "# Copy or sync files locally:\n",
    "# rsync -zvh [Source-Files-Dir] [Destination]\n",
    "\n",
    "# Copy or sync directory locally:\n",
    "# rsync -zavh [Source-Files-Dir] [Destination]\n",
    "\n",
    "# Copy files and directories recursively locally:\n",
    "# rsync -zrvh [Source-Files-Dir] [Destination]\n",
    "\n",
    "\n",
    "ls ~/scripts\n",
    "sudo chmod +x ~/scripts/multisync.py\n",
    "./scripts/multisync.py\n",
    "nano ~/scripts/dailysync.py"
   ]
  }
 ],
 "metadata": {
  "kernelspec": {
   "display_name": "Python 3 (ipykernel)",
   "language": "python",
   "name": "python3"
  },
  "language_info": {
   "codemirror_mode": {
    "name": "ipython",
    "version": 3
   },
   "file_extension": ".py",
   "mimetype": "text/x-python",
   "name": "python",
   "nbconvert_exporter": "python",
   "pygments_lexer": "ipython3",
   "version": "3.9.7"
  }
 },
 "nbformat": 4,
 "nbformat_minor": 5
}
