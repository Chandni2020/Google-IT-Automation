{
 "cells": [
  {
   "cell_type": "markdown",
   "id": "eda19937",
   "metadata": {},
   "source": [
    "# Practice Quiz: Understanding Slowness"
   ]
  },
  {
   "cell_type": "markdown",
   "id": "135f5691",
   "metadata": {},
   "source": [
    "## 1.Which of the following will an application spend the longest time retrieving data from?\n",
    "The network\n",
    "\n",
    "## 2.Which tool can you use to verify reports of 'slowness' for web pages served by a web server you manage?\n",
    "The ab tool\n",
    "\n",
    "## 3.If our computer running Microsoft Windows is running slow, what performance monitoring tools can we use to analyze our system resource usage to identify the bottleneck? (Check all that apply)\n",
    "Performance Monitor\n",
    "\n",
    "Resource Monitor\n",
    "\n",
    "## 4.Which of the following programs is likely to run faster and more efficiently, with the least slowdown?\n",
    "A program small enough to fit in RAM\n",
    "\n",
    "## 5.What might cause a single application to slow down an entire system? (Check all that apply)\n",
    "A memory leak\n",
    "\n",
    "Handling files that have grown too large"
   ]
  }
 ],
 "metadata": {
  "kernelspec": {
   "display_name": "Python 3 (ipykernel)",
   "language": "python",
   "name": "python3"
  },
  "language_info": {
   "codemirror_mode": {
    "name": "ipython",
    "version": 3
   },
   "file_extension": ".py",
   "mimetype": "text/x-python",
   "name": "python",
   "nbconvert_exporter": "python",
   "pygments_lexer": "ipython3",
   "version": "3.9.7"
  }
 },
 "nbformat": 4,
 "nbformat_minor": 5
}
