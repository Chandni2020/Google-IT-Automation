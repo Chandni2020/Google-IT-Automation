{
 "cells": [
  {
   "cell_type": "code",
   "execution_count": null,
   "id": "a9f08a0f",
   "metadata": {},
   "outputs": [],
   "source": [
    "#!/usr/bin/env python\n",
    "import subprocess\n",
    "from multiprocessing import Pool\n",
    "import os\n",
    "\n",
    "global src\n",
    "src = \"{}/data/prod/\".format(os.getenv(\"HOME\"))\n",
    "\n",
    "\n",
    "def sync_data(folder):\n",
    "    dest = \"{}/data/prod_backup/\".format(os.getenv(\"HOME\"))\n",
    "    subprocess.call([\"rsync\", \"-arq\", folder, dest])\n",
    "    print(\"Handling {}\".format(folder))\n",
    "\n",
    "\n",
    "if __name__ == \"__main__\":\n",
    "    folders = []\n",
    "    root = next(os.walk(src))[0]\n",
    "    dirs = next(os.walk(src))[1]\n",
    "\n",
    "    for dir in dirs:\n",
    "        folders.append(os.path.join(root, dir))\n",
    "\n",
    "    pool = Pool(len(folders)) if len(folders) != 0 else Pool(1)\n",
    "    pool.map(sync_data, folders)"
   ]
  }
 ],
 "metadata": {
  "kernelspec": {
   "display_name": "Python 3 (ipykernel)",
   "language": "python",
   "name": "python3"
  },
  "language_info": {
   "codemirror_mode": {
    "name": "ipython",
    "version": 3
   },
   "file_extension": ".py",
   "mimetype": "text/x-python",
   "name": "python",
   "nbconvert_exporter": "python",
   "pygments_lexer": "ipython3",
   "version": "3.9.7"
  }
 },
 "nbformat": 4,
 "nbformat_minor": 5
}
