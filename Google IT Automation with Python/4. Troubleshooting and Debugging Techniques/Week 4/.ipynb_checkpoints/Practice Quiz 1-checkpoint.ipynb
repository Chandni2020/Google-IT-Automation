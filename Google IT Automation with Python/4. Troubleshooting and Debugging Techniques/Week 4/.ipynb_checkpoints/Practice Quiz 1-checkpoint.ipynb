{
 "cells": [
  {
   "cell_type": "markdown",
   "id": "81ae829f",
   "metadata": {},
   "source": [
    "# Practice Quiz 1: Managing Computer Resources"
   ]
  },
  {
   "cell_type": "markdown",
   "id": "4ba9e8fd",
   "metadata": {},
   "source": [
    "## 1.How can you profile an entire Python application?\n",
    "Use the guppy module\n",
    "\n",
    "## 2.Your application is having difficulty sending and receiving large packets of data, which are also delaying other processes when connected to remote computers. Which of the following will be most effective on improving network traffic for the application?\n",
    "Use traffic shaping\n",
    "\n",
    "## 3.What is the term referring to the amount of time it takes for a request to reach its destination, usually measured in milliseconds (ms)?\n",
    "Latency\n",
    "\n",
    "## 4.If your computer is slowing down, what Linux program might we use to determine if we have a memory leak and what process might be causing it?\n",
    "top\n",
    "\n",
    "## 5.Some programs open a temporary file, and immediately _____ the file before the process finishes, then the file continues to grow, which can cause slowdown.\n",
    "delete"
   ]
  }
 ],
 "metadata": {
  "kernelspec": {
   "display_name": "Python 3 (ipykernel)",
   "language": "python",
   "name": "python3"
  },
  "language_info": {
   "codemirror_mode": {
    "name": "ipython",
    "version": 3
   },
   "file_extension": ".py",
   "mimetype": "text/x-python",
   "name": "python",
   "nbconvert_exporter": "python",
   "pygments_lexer": "ipython3",
   "version": "3.9.7"
  }
 },
 "nbformat": 4,
 "nbformat_minor": 5
}
