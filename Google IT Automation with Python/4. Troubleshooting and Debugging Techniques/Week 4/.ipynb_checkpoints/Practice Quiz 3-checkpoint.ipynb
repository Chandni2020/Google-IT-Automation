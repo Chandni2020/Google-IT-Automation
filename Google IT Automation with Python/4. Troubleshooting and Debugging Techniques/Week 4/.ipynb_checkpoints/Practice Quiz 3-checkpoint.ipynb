{
 "cells": [
  {
   "cell_type": "markdown",
   "id": "e7842d24",
   "metadata": {},
   "source": [
    "# Practice Quiz 3: Making Our Future Lives Easier"
   ]
  },
  {
   "cell_type": "markdown",
   "id": "6471ca3a",
   "metadata": {},
   "source": [
    "## 1.Which proactive practice can you implement to make troubleshooting issues in a program easier when they happen again, or face other similar issues?\n",
    "Create and update documentation\n",
    "\n",
    "## 2.Which of the following is a good example of mixing and matching resources on a single server so that the running services make the best possible use of all resources?\n",
    "Run a RAM intensive application and a CPU intensive application on a server.\n",
    "\n",
    "## 3.One strategy for debugging involves explaining the problem to yourself out loud. What is this technique known as?\n",
    "Rubber Ducking\n",
    "\n",
    "## 4.When deploying software, what is a canary?\n",
    "A test deployment to a subset of production hosts\n",
    "\n",
    "## 5.It is advisable to collect monitoring information into a central location. Given the importance of the server handling the centralized collecting, when assessing risks from outages, this server could be described as what?\n",
    "A failure domain"
   ]
  }
 ],
 "metadata": {
  "kernelspec": {
   "display_name": "Python 3 (ipykernel)",
   "language": "python",
   "name": "python3"
  },
  "language_info": {
   "codemirror_mode": {
    "name": "ipython",
    "version": 3
   },
   "file_extension": ".py",
   "mimetype": "text/x-python",
   "name": "python",
   "nbconvert_exporter": "python",
   "pygments_lexer": "ipython3",
   "version": "3.9.7"
  }
 },
 "nbformat": 4,
 "nbformat_minor": 5
}
