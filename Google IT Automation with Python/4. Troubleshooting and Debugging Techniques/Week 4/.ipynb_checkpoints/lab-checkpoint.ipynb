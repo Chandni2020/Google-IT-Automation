{
 "cells": [
  {
   "cell_type": "code",
   "execution_count": null,
   "id": "f8c0984a",
   "metadata": {},
   "outputs": [],
   "source": [
    "ls\n",
    "sudo chmod 777 ~/start_date_report.py\n",
    "./start_date_report.py\n",
    "\n",
    "nano ~/start_date_report.py\n",
    "# Eg. year = int(input('Enter a value for the year: '))\n",
    "\n",
    "./start_date_report.py\n",
    "\n",
    "time ./start_date_report.py\n",
    "\n",
    "\n",
    "nano ~/start_date_report.py"
   ]
  }
 ],
 "metadata": {
  "kernelspec": {
   "display_name": "Python 3 (ipykernel)",
   "language": "python",
   "name": "python3"
  },
  "language_info": {
   "codemirror_mode": {
    "name": "ipython",
    "version": 3
   },
   "file_extension": ".py",
   "mimetype": "text/x-python",
   "name": "python",
   "nbconvert_exporter": "python",
   "pygments_lexer": "ipython3",
   "version": "3.9.7"
  }
 },
 "nbformat": 4,
 "nbformat_minor": 5
}
