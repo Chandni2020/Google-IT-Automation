{
 "cells": [
  {
   "cell_type": "markdown",
   "id": "f373bffc",
   "metadata": {},
   "source": [
    "# Practice Quiz 2: Managing Our Time"
   ]
  },
  {
   "cell_type": "markdown",
   "id": "89f913f1",
   "metadata": {},
   "source": [
    "## 1.Using the Eisenhower Decision Matrix, which of the following is an example of an event or task that is both Important, and Urgent?\n",
    "Internet connection is down\n",
    "\n",
    "## 2.You’re working on a web server issue that’s preventing all users from accessing the site. You then receive a call from user to reset their user account password. Which appropriate action should you take when prioritizing your tasks?\n",
    "Ask the user to open a support ticket.\n",
    "\n",
    "## 3.What is it called when we make more work for ourselves later by taking shortcuts now?\n",
    "Technical debt\n",
    "\n",
    "## 4.What is the first step of prioritizing our time properly?\n",
    "Make a list of all tasks\n",
    "\n",
    "## 5.If an issue isn't solved within the time estimate that you provided, what should you do? (Select all that apply)\n",
    "Explain why\n",
    "\n",
    "Give an updated time estimate"
   ]
  }
 ],
 "metadata": {
  "kernelspec": {
   "display_name": "Python 3 (ipykernel)",
   "language": "python",
   "name": "python3"
  },
  "language_info": {
   "codemirror_mode": {
    "name": "ipython",
    "version": 3
   },
   "file_extension": ".py",
   "mimetype": "text/x-python",
   "name": "python",
   "nbconvert_exporter": "python",
   "pygments_lexer": "ipython3",
   "version": "3.9.7"
  }
 },
 "nbformat": 4,
 "nbformat_minor": 5
}
