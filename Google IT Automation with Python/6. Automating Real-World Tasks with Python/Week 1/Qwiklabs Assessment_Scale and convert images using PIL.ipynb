{
 "cells": [
  {
   "cell_type": "code",
   "execution_count": null,
   "id": "e0109a70",
   "metadata": {},
   "outputs": [],
   "source": [
    "#!/usr/bin/env python3\n",
    "from PIL import Image\n",
    "import os\n",
    "\n",
    "directory = \"images/\"\n",
    "output_directory = \"/opt/icons/\"\n",
    "\n",
    "#The for loop to correct the badly formatted images.\n",
    "for filename in os.listdir(directory):\n",
    "    if filename != \".DS_Store\":\n",
    "        im = Image.open(os.path.join(directory, filename))\n",
    "        im = im.rotate(-90)\n",
    "        im = im.resize((128,128))\n",
    "        im = im.convert(\"RGB\")\n",
    "        im.save(os.path.join(output_directory, filename+\".jpeg\"))\n",
    "\n"
   ]
  }
 ],
 "metadata": {
  "kernelspec": {
   "display_name": "Python 3 (ipykernel)",
   "language": "python",
   "name": "python3"
  },
  "language_info": {
   "codemirror_mode": {
    "name": "ipython",
    "version": 3
   },
   "file_extension": ".py",
   "mimetype": "text/x-python",
   "name": "python",
   "nbconvert_exporter": "python",
   "pygments_lexer": "ipython3",
   "version": "3.9.7"
  }
 },
 "nbformat": 4,
 "nbformat_minor": 5
}
