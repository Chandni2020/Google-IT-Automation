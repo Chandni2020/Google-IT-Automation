{
 "cells": [
  {
   "cell_type": "markdown",
   "id": "67c9f70e",
   "metadata": {},
   "source": [
    "# changeImage.py"
   ]
  },
  {
   "cell_type": "code",
   "execution_count": null,
   "id": "793886a7",
   "metadata": {},
   "outputs": [],
   "source": [
    "#!/usr/bin/env python3\n",
    "from PIL import Image\n",
    "import os\n",
    "\n",
    "path = \"./supplier-data/images/\"\n",
    "for f in os.listdir(\"./supplier-data/images\"):\n",
    "    if f.endswith(\".tiff\"):\n",
    "        split_f = f.split(\".\")\n",
    "        name = split_f[0] + \".jpeg\"\n",
    "        im = Image.open(path + f).convert(\"RGB\")\n",
    "        im.resize((600, 400)).save(\"./supplier-data/images/\" + name, \"JPEG\")\n"
   ]
  },
  {
   "cell_type": "markdown",
   "id": "10383312",
   "metadata": {},
   "source": [
    "# supplier_image_upload.py"
   ]
  },
  {
   "cell_type": "code",
   "execution_count": null,
   "id": "31e5dd60",
   "metadata": {},
   "outputs": [],
   "source": [
    "#!/usr/bin/env python3\n",
    "import requests\n",
    "import os\n",
    "# This example shows how a file can be uploaded using\n",
    "# The Python Requests module\n",
    "\n",
    "url = \"http://localhost/upload/\"\n",
    "for f in os.listdir(\"./supplier-data/images\"):\n",
    "    if f.endswith(\".jpeg\"):\n",
    "        with open('./supplier-data/images/' + f, 'rb') as opened:\n",
    "            r = requests.post(url, files={'file': opened})\n"
   ]
  },
  {
   "cell_type": "markdown",
   "id": "76970843",
   "metadata": {},
   "source": [
    "# run.py"
   ]
  },
  {
   "cell_type": "code",
   "execution_count": null,
   "id": "7019539b",
   "metadata": {},
   "outputs": [],
   "source": [
    "#! /usr/bin/env python3\n",
    "import os\n",
    "import requests\n",
    "\n",
    "fruits = {}\n",
    "keys = [\"name\", \"weight\", \"description\", \"image_name\"]\n",
    "index = 0\n",
    "path = \"./supplier-data/descriptions/\"\n",
    "img_path = \"./supplier-data/images/\"\n",
    "for file in os.listdir(\"./supplier-data/descriptions\"):\n",
    "    with open(path + file) as f:\n",
    "        for ln in f:\n",
    "            line = ln.strip()\n",
    "            if \"lbs\" in line:\n",
    "                nline = line.split()\n",
    "                wght = int(nline[0])\n",
    "                fruits[\"weight\"] = wght\n",
    "                index += 1\n",
    "            else:\n",
    "                try:\n",
    "                    fruits[keys[index]] = line\n",
    "                    index += 1\n",
    "                except:\n",
    "                    fruits[keys[2]] = line\n",
    "        index = 0\n",
    "        split_f = file.split(\".\")\n",
    "        name = split_f[0] + \".jpeg\"\n",
    "        for fle in os.listdir(\"./supplier-data/images\"):\n",
    "            if fle == name:\n",
    "                fruits[\"image_name\"] = name\n",
    "        response = requests.post(\"http://<External_IP>/fruits/\", json=fruits)\n",
    "        fruits.clear()\n"
   ]
  },
  {
   "cell_type": "markdown",
   "id": "b5382f2e",
   "metadata": {},
   "source": [
    "# reports.py"
   ]
  },
  {
   "cell_type": "code",
   "execution_count": null,
   "id": "1022715f",
   "metadata": {},
   "outputs": [],
   "source": [
    "#!/usr/bin/env python3\n",
    "from reportlab.platypus import SimpleDocTemplate\n",
    "from reportlab.platypus import Paragraph, Spacer, Table, Image\n",
    "from reportlab.lib.styles import getSampleStyleSheet\n",
    "from reportlab.lib import colors\n",
    "\n",
    "\n",
    "def generate_report(attachment, title, pharagraph):\n",
    "    styles = getSampleStyleSheet()\n",
    "    report = SimpleDocTemplate(attachment)\n",
    "    report_title = Paragraph(title, styles[\"h1\"])\n",
    "    report_info = Paragraph(pharagraph, styles[\"BodyText\"])\n",
    "    table_style = [('GRID', (0, 0), (-1, -1), 1, colors.black),\n",
    "                   ('FONTNAME', (0, 0), (-1, 0), 'Helvetica-Bold'),\n",
    "                   ('ALIGN', (0, 0), (-1, -1), 'CENTER')]\n",
    "    empty_line = Spacer(1, 20)\n",
    "\n",
    "    report.build([report_title, empty_line, report_info])\n"
   ]
  },
  {
   "cell_type": "markdown",
   "id": "370f12bd",
   "metadata": {},
   "source": [
    "# report_email.py"
   ]
  },
  {
   "cell_type": "code",
   "execution_count": null,
   "id": "24dd85bc",
   "metadata": {},
   "outputs": [],
   "source": [
    "#!/usr/bin/env python3\n",
    "import os\n",
    "import datetime\n",
    "import reports\n",
    "import emails\n",
    "\n",
    "dt = datetime.date.today().strftime(\"%B  %d, %Y\")\n",
    "date = \"Processed Update on \" + dt\n",
    "names = []\n",
    "weights = []\n",
    "path = \"./supplier-data/descriptions/\"\n",
    "for file in os.listdir(\"./supplier-data/descriptions\"):\n",
    "    with open(path + file) as f:\n",
    "        for ln in f:\n",
    "            line = ln.strip()\n",
    "            if len(line) <= 10 and len(line) > 0 and \"lb\"not in line:\n",
    "                fruit_name = \"name: \" + line\n",
    "                names.append(fruit_name)\n",
    "            if \"lbs\" in line:\n",
    "                fruit_weight = \"weight: \" + line\n",
    "                weights.append(fruit_weight)\n",
    "\n",
    "summary = \"\"\n",
    "for name, weight in zip(names, weights):\n",
    "    summary += name + '<br />' + weight + '<br />' + '<br />'\n",
    "\n",
    "if __name__ == \"__main__\":\n",
    "    reports.generate_report(\"/tmp/processed.pdf\", date, summary)\n",
    "    sender = \"automation@example.com\"\n",
    "    receiver = \"<USERNAME>@example.com\".format(os.environ.get('USER'))\n",
    "    subject = \"Upload Completed - Online Fruit Store\"\n",
    "    body = \"All fruits are uploaded to our website successfully. A detailed list is attached to this email.\"\n",
    "\n",
    "    message = emails.generate_email(sender, receiver, subject, body, \"/tmp/processed.pdf\")\n",
    "    emails.send_email(message)\n"
   ]
  },
  {
   "cell_type": "markdown",
   "id": "5a187a56",
   "metadata": {},
   "source": [
    "# emails.py"
   ]
  },
  {
   "cell_type": "code",
   "execution_count": null,
   "id": "ead0b781",
   "metadata": {},
   "outputs": [],
   "source": [
    "#!/usr/bin/env python3\n",
    "import email.message\n",
    "import mimetypes\n",
    "import os.path\n",
    "import smtplib\n",
    "\n",
    "\n",
    "def generate_email(sender, recipient, subject, body, attachment_path):\n",
    "    \"\"\"Creates an email with an attachement.\"\"\"\n",
    "    # Basic Email formatting\n",
    "    message = email.message.EmailMessage()\n",
    "    message[\"From\"] = sender\n",
    "    message[\"To\"] = recipient\n",
    "    message[\"Subject\"] = subject\n",
    "    message.set_content(body)\n",
    "\n",
    "    # Process the attachment and add it to the email\n",
    "    attachment_filename = os.path.basename(attachment_path)\n",
    "    mime_type, _ = mimetypes.guess_type(attachment_path)\n",
    "    mime_type, mime_subtype = mime_type.split('/', 1)\n",
    "\n",
    "    with open(attachment_path, 'rb') as ap:\n",
    "        message.add_attachment(ap.read(),\n",
    "                               maintype=mime_type,\n",
    "                               subtype=mime_subtype,\n",
    "                               filename=attachment_filename)\n",
    "\n",
    "    return message\n",
    "\n",
    "\n",
    "def generate_error_email(sender, recipient, subject, body):\n",
    "    \"\"\"Creates an email without an attachement.\"\"\"\n",
    "    # Basic Email formatting\n",
    "    message = email.message.EmailMessage()\n",
    "    message[\"From\"] = sender\n",
    "    message[\"To\"] = recipient\n",
    "    message[\"Subject\"] = subject\n",
    "    message.set_content(body)\n",
    "\n",
    "    return message\n",
    "\n",
    "\n",
    "def send_email(message):\n",
    "    \"\"\"Sends the message to the configured SMTP server.\"\"\"\n",
    "    mail_server = smtplib.SMTP('localhost')\n",
    "    mail_server.send_message(message)\n",
    "    mail_server.quit()\n"
   ]
  },
  {
   "cell_type": "markdown",
   "id": "60bf564d",
   "metadata": {},
   "source": [
    "# health_check.py"
   ]
  },
  {
   "cell_type": "code",
   "execution_count": null,
   "id": "aba2c8bb",
   "metadata": {},
   "outputs": [],
   "source": [
    "#!/usr/bin/env python3\n",
    "import shutil\n",
    "import psutil\n",
    "import socket\n",
    "import emails\n",
    "import os\n",
    "\n",
    "sender = \"automation@example.com\"\n",
    "receiver = \"<USERNAME>@example.com\".format(os.environ.get('USER'))\n",
    "body = \"Please check your system and resolve the issue as soon as possible.\"\n",
    "\n",
    "# Checks disk usage and sends email if available space < 20%\n",
    "du = shutil.disk_usage(\"/\")\n",
    "du_prsnt = du.free/du.total * 100\n",
    "if du_prsnt < 20:\n",
    "    subject = \"Error - Available disk space is less than 20%\"\n",
    "    message = emails.generate_error_email(sender, receiver, subject, body)\n",
    "    emails.send_email(message)\n",
    "\n",
    "# Checks CPU usage and sends email if usage >80%\n",
    "cpu_prsnt = psutil.cpu_percent(1)\n",
    "if cpu_prsnt > 80:\n",
    "    subject = \"Error - CPU usage is over 80%\"\n",
    "    message = emails.generate_error_email(sender, receiver, subject, body)\n",
    "    emails.send_email(message)\n",
    "\n",
    "# Checks for available memory, if < 500mb sends an email\n",
    "mem = psutil.virtual_memory()\n",
    "trs = 500 * 1024 * 1024  # 500MB\n",
    "if mem.available < trs:\n",
    "    subject = \"Error - Available memory is less than 500MB\"\n",
    "    message = emails.generate_error_email(sender, receiver, subject, body)\n",
    "    emails.send_email(message)\n",
    "\n",
    "# Checks hostname and if cannot be resolved to \"127.0.0.1\" sends an email\n",
    "hostname = socket.gethostbyname('localhost')\n",
    "if hostname != '127.0.0.1':\n",
    "    subject = \"Error - localhost cannot be resolved to 127.0.0.1\"\n",
    "    message = emails.generate_error_email(sender, receiver, subject, body)\n",
    "    emails.send_email(message)\n"
   ]
  }
 ],
 "metadata": {
  "kernelspec": {
   "display_name": "Python 3 (ipykernel)",
   "language": "python",
   "name": "python3"
  },
  "language_info": {
   "codemirror_mode": {
    "name": "ipython",
    "version": 3
   },
   "file_extension": ".py",
   "mimetype": "text/x-python",
   "name": "python",
   "nbconvert_exporter": "python",
   "pygments_lexer": "ipython3",
   "version": "3.9.7"
  }
 },
 "nbformat": 4,
 "nbformat_minor": 5
}
