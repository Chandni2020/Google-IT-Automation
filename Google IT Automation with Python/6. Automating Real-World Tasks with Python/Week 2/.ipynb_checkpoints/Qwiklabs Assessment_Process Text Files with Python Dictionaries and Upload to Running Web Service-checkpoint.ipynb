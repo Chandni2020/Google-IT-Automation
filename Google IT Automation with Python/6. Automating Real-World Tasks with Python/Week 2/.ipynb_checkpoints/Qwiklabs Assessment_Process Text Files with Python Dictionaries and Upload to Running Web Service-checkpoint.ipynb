{
 "cells": [
  {
   "cell_type": "code",
   "execution_count": null,
   "id": "a115bed4",
   "metadata": {},
   "outputs": [],
   "source": [
    "#Path to the data\n",
    "path = \"/data/feedback/\"\n",
    "\n",
    "keys = [\"title\", \"name\", \"date\", \"feedback\"]\n",
    "\n",
    "folder = os.listdir(path)\n",
    "for file in folder:\n",
    "    keycount = 0\n",
    "    fb = {}\n",
    "    with open(path + file) as f1: \n",
    "        for line in f1: \n",
    "           value = line.strip() \n",
    "           fb[keys[keycount]] = value \n",
    "           keycount += 1 \n",
    "    print (fb) \n",
    "    response = requests.post(\"http://<IP ADDRESS>/feedback/\",json=fb)\n",
    "print(response.request.body)\n",
    "print(response.status_code)"
   ]
  }
 ],
 "metadata": {
  "kernelspec": {
   "display_name": "Python 3 (ipykernel)",
   "language": "python",
   "name": "python3"
  },
  "language_info": {
   "codemirror_mode": {
    "name": "ipython",
    "version": 3
   },
   "file_extension": ".py",
   "mimetype": "text/x-python",
   "name": "python",
   "nbconvert_exporter": "python",
   "pygments_lexer": "ipython3",
   "version": "3.9.7"
  }
 },
 "nbformat": 4,
 "nbformat_minor": 5
}
