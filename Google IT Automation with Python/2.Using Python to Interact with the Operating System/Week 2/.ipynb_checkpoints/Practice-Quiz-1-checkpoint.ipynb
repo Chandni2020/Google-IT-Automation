{
 "cells": [
  {
   "cell_type": "markdown",
   "id": "9a4a17b0",
   "metadata": {},
   "source": [
    "# Practice Quiz: Managing Files & Directories\n",
    "\n",
    "## 1.The create_python_script function creates a new python script in the current working directory, adds the line of comments to it declared by the 'comments' variable, and returns the size of the new file. Fill in the gaps to create a script called \"program.py\"."
   ]
  },
  {
   "cell_type": "code",
   "execution_count": null,
   "id": "5de2d0c5",
   "metadata": {},
   "outputs": [],
   "source": [
    "import os\n",
    "\n",
    "def create_python_script(filename):\n",
    "  comments = \"# Start of a new Python program\"\n",
    "  with open(filename,\"w\") as python_file:\n",
    "    python_file.write(comments)\n",
    "  filesize = os.path.getsize(filename)\n",
    "  return(filesize)\n",
    "\n",
    "print(create_python_script(\"program.py\"))"
   ]
  },
  {
   "cell_type": "markdown",
   "id": "9dcbe65b",
   "metadata": {},
   "source": [
    "## 2.The new_directory function creates a new directory inside the current working directory, then creates a new empty file inside the new directory, and returns the list of files in that directory. Fill in the gaps to create a file \"script.py\" in the directory \"PythonPrograms\".\n"
   ]
  },
  {
   "cell_type": "code",
   "execution_count": null,
   "id": "32ba00f3",
   "metadata": {},
   "outputs": [],
   "source": [
    "import os\n",
    "\n",
    "def new_directory(directory, filename):\n",
    "  # Before creating a new directory, check to see if it already exists\n",
    "  if os.path.isdir(directory) == False:\n",
    "    os.mkdir(directory)\n",
    "\n",
    "  # Create the new file inside of the new directory\n",
    "  os.chdir(directory)\n",
    "  with open (filename,\"w\") as file:\n",
    "    pass\n",
    "\n",
    "  # Return the list of files in the new directory\n",
    "  return os.listdir()\n",
    "\n",
    "print(new_directory(\"PythonPrograms\", \"script.py\"))"
   ]
  },
  {
   "cell_type": "markdown",
   "id": "00d52580",
   "metadata": {},
   "source": [
    "## 3.Which of the following methods from the os module will create a new directory?\n",
    "mkdir()"
   ]
  },
  {
   "cell_type": "markdown",
   "id": "4302fdf8",
   "metadata": {},
   "source": [
    "## 4.The file_date function creates a new file in the current working directory, checks the date that the file was modified, and returns just the date portion of the timestamp in the format of yyyy-mm-dd. Fill in the gaps to create a file called \"newfile.txt\" and check the date that it was modified."
   ]
  },
  {
   "cell_type": "code",
   "execution_count": null,
   "id": "ba60f0eb",
   "metadata": {},
   "outputs": [],
   "source": [
    "import os\n",
    "import datetime\n",
    "\n",
    "def file_date(filename):\n",
    "  # Create the file in the current directory\n",
    "  os.mknod(filename) \n",
    "  timestamp = os.path.getmtime(filename)\n",
    "  # Convert the timestamp into a readable format, then into a string\n",
    "  date = datetime.datetime.fromtimestamp(timestamp)\n",
    "  # Return just the date portion \n",
    "  # Hint: how many characters are in “yyyy-mm-dd”? \n",
    "  return (\"{:%Y-%m-%d}\".format(date))\n",
    "\n",
    "print(file_date(\"newfile.txt\")) \n",
    "# Should be today's date in the format of yyyy-mm-dd"
   ]
  },
  {
   "cell_type": "markdown",
   "id": "41bcd9e4",
   "metadata": {},
   "source": [
    "## 5.The parent_directory function returns the name of the directory that's located just above the current working directory. Remember that '..' is a relative path alias that means \"go up to the parent directory\". Fill in the gaps to complete this function."
   ]
  },
  {
   "cell_type": "code",
   "execution_count": null,
   "id": "885d73fb",
   "metadata": {},
   "outputs": [],
   "source": [
    "import os\n",
    "def parent_directory():\n",
    "  # Create a relative path to the parent \n",
    "  # of the current working directory \n",
    "  relative_parent = os.path.join(os.getcwd(), os.pardir)\n",
    "  # Return the absolute path of the parent directory\n",
    "  return os.path.abspath(relative_parent)\n",
    "\n",
    "print(parent_directory())"
   ]
  }
 ],
 "metadata": {
  "kernelspec": {
   "display_name": "Python 3 (ipykernel)",
   "language": "python",
   "name": "python3"
  },
  "language_info": {
   "codemirror_mode": {
    "name": "ipython",
    "version": 3
   },
   "file_extension": ".py",
   "mimetype": "text/x-python",
   "name": "python",
   "nbconvert_exporter": "python",
   "pygments_lexer": "ipython3",
   "version": "3.9.7"
  }
 },
 "nbformat": 4,
 "nbformat_minor": 5
}
