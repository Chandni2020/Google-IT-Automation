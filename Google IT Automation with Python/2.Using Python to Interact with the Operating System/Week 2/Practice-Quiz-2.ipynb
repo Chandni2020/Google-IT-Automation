{
 "cells": [
  {
   "cell_type": "markdown",
   "id": "e1c5efff",
   "metadata": {},
   "source": [
    "# Practice Quiz: Reading & Writing CSV Files"
   ]
  },
  {
   "cell_type": "markdown",
   "id": "92941997",
   "metadata": {},
   "source": [
    "## 1.We're working with a list of flowers and some information about each one. The create_file function writes this information to a CSV file. The contents_of_file function reads this file into records and returns the information in a nicely formatted block. Fill in the gaps of the contents_of_file function to turn the data in the CSV file into a dictionary using DictReader.\n"
   ]
  },
  {
   "cell_type": "code",
   "execution_count": null,
   "id": "0cb2994a",
   "metadata": {},
   "outputs": [],
   "source": [
    "import os\n",
    "import csv\n",
    "\n",
    "# Create a file with data in it\n",
    "def create_file(filename):\n",
    "  with open(filename, \"w\") as file:\n",
    "    file.write(\"name,color,type\\n\")\n",
    "    file.write(\"carnation,pink,annual\\n\")\n",
    "    file.write(\"daffodil,yellow,perennial\\n\")\n",
    "    file.write(\"iris,blue,perennial\\n\")\n",
    "    file.write(\"poinsettia,red,perennial\\n\")\n",
    "    file.write(\"sunflower,yellow,annual\\n\")\n",
    "\n",
    "# Read the file contents and format the information about each row\n",
    "def contents_of_file(filename):\n",
    "  return_string = \"\"\n",
    "\n",
    "  # Call the function to create the file \n",
    "  create_file(filename)\n",
    "\n",
    "  # Open the file\n",
    "  with open(filename,\"r\") as f:\n",
    "    # Read the rows of the file into a dictionary\n",
    "    reader = csv.DictReader(f)\n",
    "    # Process each item of the dictionary\n",
    "    for row in reader:\n",
    "      return_string += \"a {} {} is {}\\n\".format(row[\"color\"], row[\"name\"], \n",
    "      row[\"type\"])\n",
    "  return return_string\n",
    "\n",
    "#Call the function\n",
    "print(contents_of_file(\"flowers.csv\"))"
   ]
  },
  {
   "cell_type": "markdown",
   "id": "a268f935",
   "metadata": {},
   "source": [
    "## 2.Using the CSV file of flowers again, fill in the gaps of the contents_of_file function to process the data without turning it into a dictionary. How do you skip over the header record with the field names?"
   ]
  },
  {
   "cell_type": "code",
   "execution_count": null,
   "id": "81c757f5",
   "metadata": {},
   "outputs": [],
   "source": [
    "import os\n",
    "import csv\n",
    "\n",
    "# Create a file with data in it\n",
    "def create_file(filename):\n",
    "  with open(filename, \"w\") as file:\n",
    "    file.write(\"name,color,type\\n\")\n",
    "    file.write(\"carnation,pink,annual\\n\")\n",
    "    file.write(\"daffodil,yellow,perennial\\n\")\n",
    "    file.write(\"iris,blue,perennial\\n\")\n",
    "    file.write(\"poinsettia,red,perennial\\n\")\n",
    "    file.write(\"sunflower,yellow,annual\\n\")\n",
    "\n",
    "# Read the file contents and format the information about each row\n",
    "def contents_of_file(filename):\n",
    "  return_string = \"\"\n",
    "\n",
    "  # Call the function to create the file \n",
    "  create_file(filename)\n",
    "\n",
    "  # Open the file\n",
    "  with open(filename) as f:\n",
    "    # Read the rows of the file\n",
    "    rows = csv.reader(f)\n",
    "    next(rows)\n",
    "    # Process each row\n",
    "    for row in rows:\n",
    "      name,color,itstype = row\n",
    "      # Format the return string for data rows only\n",
    "      return_string += \"a {} {} is {}\\n\".format(color, name, itstype)\n",
    "  return return_string\n",
    "\n",
    "#Call the function\n",
    "print(contents_of_file(\"flowers.csv\"))"
   ]
  },
  {
   "cell_type": "markdown",
   "id": "600317cc",
   "metadata": {},
   "source": [
    "## 3. In order to use the writerows() function of DictWriter() to write a list of dictionaries to each line of a CSV file, what steps should we take? (Check all that apply)"
   ]
  },
  {
   "cell_type": "markdown",
   "id": "6605cd8c",
   "metadata": {},
   "source": [
    "Create an instance of the DictWriter() class\n",
    "\n",
    "Write the fieldnames parameter into the first row using writeheader()\n",
    "\n",
    "Open the csv file using with open"
   ]
  },
  {
   "cell_type": "markdown",
   "id": "7d6137e8",
   "metadata": {},
   "source": [
    "## 4.Which of the following is true about unpacking values into variables when reading rows of a CSV file? (Check all that apply)\n",
    "We need the same amount of variables as there are columns of data in the CSV\n",
    "\n",
    "Rows can be read using both csv.reader and csv.DictReader\n",
    "\n",
    "An instance of the reader class must be created first"
   ]
  },
  {
   "cell_type": "markdown",
   "id": "4518af48",
   "metadata": {},
   "source": [
    "## 5.If we are analyzing a file's contents to correctly structure its data, what action are we performing on the file?\n",
    "Parsing"
   ]
  }
 ],
 "metadata": {
  "kernelspec": {
   "display_name": "Python 3 (ipykernel)",
   "language": "python",
   "name": "python3"
  },
  "language_info": {
   "codemirror_mode": {
    "name": "ipython",
    "version": 3
   },
   "file_extension": ".py",
   "mimetype": "text/x-python",
   "name": "python",
   "nbconvert_exporter": "python",
   "pygments_lexer": "ipython3",
   "version": "3.9.7"
  }
 },
 "nbformat": 4,
 "nbformat_minor": 5
}
