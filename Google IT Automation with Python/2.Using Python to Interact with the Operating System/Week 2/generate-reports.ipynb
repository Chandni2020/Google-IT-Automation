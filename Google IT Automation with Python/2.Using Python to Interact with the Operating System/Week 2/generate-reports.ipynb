{
 "cells": [
  {
   "cell_type": "code",
   "execution_count": null,
   "id": "bcf80539",
   "metadata": {},
   "outputs": [],
   "source": [
    "import csv\n",
    "import os\n",
    "\n",
    "\n",
    "def read_employees(csv_file_location):\n",
    "    # Open the file\n",
    "    with open(csv_file_location,\"r\") as f:\n",
    "        csv.register_dialect('empDialect', skipinitialspace=True, strict=True)\n",
    "        # Read the rows of the file into a dictionary\n",
    "        employee_file = csv.DictReader(f, dialect='empDialect')\n",
    "        employee_list = []\n",
    "        for data in employee_file:\n",
    "            employee_list.append(data)\n",
    "\n",
    "    return employee_list\n",
    "\n",
    "\n",
    "def process_data(employee_list):\n",
    "    department_list = []\n",
    "    for employee_data in employee_list:\n",
    "       department_list.append(employee_data['Department'])\n",
    "\n",
    "    department_data = {}\n",
    "    for department_name in set(department_list):\n",
    "        department_data[department_name] = department_list.count(department_name)\n",
    "    \n",
    "    return department_data\n",
    "\n",
    "\n",
    "def write_report(dictionary, report_file):\n",
    "    with open(report_file, \"w+\") as f:\n",
    "        for k in sorted(dictionary):\n",
    "            f.write(str(k)+':'+str(dictionary[k])+'\\n')\n",
    "        f.close()\n",
    "\n",
    "employee_list = read_employees(os.path.join(os.path.dirname(__file__),'employees.csv'))\n",
    "print(employee_list)\n",
    "\n",
    "dictionary = process_data(employee_list)\n",
    "print(dictionary)\n",
    "\n",
    "write_report(dictionary,os.path.join(os.path.dirname(__file__),'report.txt'))"
   ]
  }
 ],
 "metadata": {
  "kernelspec": {
   "display_name": "Python 3 (ipykernel)",
   "language": "python",
   "name": "python3"
  },
  "language_info": {
   "codemirror_mode": {
    "name": "ipython",
    "version": 3
   },
   "file_extension": ".py",
   "mimetype": "text/x-python",
   "name": "python",
   "nbconvert_exporter": "python",
   "pygments_lexer": "ipython3",
   "version": "3.9.7"
  }
 },
 "nbformat": 4,
 "nbformat_minor": 5
}
