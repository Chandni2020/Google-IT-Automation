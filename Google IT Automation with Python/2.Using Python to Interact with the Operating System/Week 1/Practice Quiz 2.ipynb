{
 "cells": [
  {
   "cell_type": "markdown",
   "id": "d0fc2868",
   "metadata": {},
   "source": [
    "# Practice Quiz: Running Python Locally\n",
    "\n",
    "## 1.When your IDE automatically creates an indent for you, this is known as what?\n",
    "Code completion"
   ]
  },
  {
   "cell_type": "markdown",
   "id": "d6192463",
   "metadata": {},
   "source": [
    "## 2.Can you identify the error in the following code?"
   ]
  },
  {
   "cell_type": "code",
   "execution_count": 6,
   "id": "550b4ebd",
   "metadata": {},
   "outputs": [
    {
     "name": "stdout",
     "output_type": "stream",
     "text": [
      "[[ 3 12  6]\n",
      " [36 60 48]]\n"
     ]
    }
   ],
   "source": [
    "\n",
    "#!/usr/bin/env python3\n",
    "\n",
    "import numpy as np\n",
    "\n",
    "def numpyArray():\n",
    "    x = np.array([[1, 2, 3], [4, 5, 6]], np.int32)\n",
    "    y = np.array([[3, 6, 2], [9, 12, 8]], np.int32)\n",
    "    return x*y\n",
    "print(numpyArray())\n",
    "\n",
    "#The y variable is not calling the numpy module properly.\n"
   ]
  },
  {
   "cell_type": "markdown",
   "id": "5d5d3775",
   "metadata": {},
   "source": [
    "## 3.Which type of programming language is read and converted to machine code before runtime, allowing for more efficient code?\n",
    "Compiled language\n",
    "\n",
    "\n",
    "## 4.Which of the following is not an IDE or code editor?\n",
    "pip\n",
    "\n",
    "## 5.What does the PATH variable do?\n",
    "Tells the operating system where to find executables"
   ]
  }
 ],
 "metadata": {
  "kernelspec": {
   "display_name": "Python 3 (ipykernel)",
   "language": "python",
   "name": "python3"
  },
  "language_info": {
   "codemirror_mode": {
    "name": "ipython",
    "version": 3
   },
   "file_extension": ".py",
   "mimetype": "text/x-python",
   "name": "python",
   "nbconvert_exporter": "python",
   "pygments_lexer": "ipython3",
   "version": "3.9.7"
  }
 },
 "nbformat": 4,
 "nbformat_minor": 5
}
