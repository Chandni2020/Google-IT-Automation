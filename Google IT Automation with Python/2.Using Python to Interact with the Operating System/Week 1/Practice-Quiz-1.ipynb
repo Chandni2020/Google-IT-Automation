{
 "cells": [
  {
   "cell_type": "markdown",
   "id": "cb0225e3",
   "metadata": {},
   "source": [
    "# Practice Quiz 1: Getting Ready for Python\n",
    "\n",
    "\n",
    "## 1.Which of the following is the most modern, up-to-date version of Python?\n",
    "Python 3\n",
    "\n",
    "## 2.Which of the following operating systems is compatible with Python 3?\n",
    "All of the above\n",
    "\n",
    "## 3.Which of the following operating systems does not run on a Linux kernel?\n",
    "Mac OS\n",
    "\n",
    "## 4.If we want to check to see what version of Python is installed, what would we type into the command line? Select all that apply.\n",
    "python -V\n",
    "python --version\n",
    "\n",
    "## 5.What is pip an example of?\n",
    "A Python package manager"
   ]
  }
 ],
 "metadata": {
  "kernelspec": {
   "display_name": "Python 3 (ipykernel)",
   "language": "python",
   "name": "python3"
  },
  "language_info": {
   "codemirror_mode": {
    "name": "ipython",
    "version": 3
   },
   "file_extension": ".py",
   "mimetype": "text/x-python",
   "name": "python",
   "nbconvert_exporter": "python",
   "pygments_lexer": "ipython3",
   "version": "3.9.7"
  }
 },
 "nbformat": 4,
 "nbformat_minor": 5
}
