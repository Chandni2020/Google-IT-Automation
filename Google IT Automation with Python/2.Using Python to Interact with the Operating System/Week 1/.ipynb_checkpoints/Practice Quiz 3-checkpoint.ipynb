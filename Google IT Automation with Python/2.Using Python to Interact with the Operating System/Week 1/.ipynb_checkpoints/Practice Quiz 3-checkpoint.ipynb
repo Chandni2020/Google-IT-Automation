{
 "cells": [
  {
   "cell_type": "markdown",
   "id": "6c89916e",
   "metadata": {},
   "source": [
    "# Practice Quiz: Automation\n",
    "\n",
    "### 1. At a manufacturing plant, an employee spends several minutes each hour noting uptime and downtime for each of the machines they are running. Which of the following ideas would best automate this process?\n",
    "Add an analog Internet of Things (IoT) module to each machine, in order to detect their power states, and write a script that records uptime and downtime, reporting hourly\n",
    "\n",
    "\n",
    "## 2.One important aspect of automation is forensic value. Which of the following statements describes this term correctly?\n",
    "It is important for automated processes to leave extensive logs so when errors occur, they can be properly investigated.\n",
    "\n",
    "## 3.An employee at a technical support company is required to collate reports into a single file and send that file via email three times a day, five days a week for one month, on top of his other duties. It takes him about 15 minutes each time. He has discovered a way to automate the process, but it will take him at least 10 hours to code the automation script. Which of the following equations will help them decide whether it's worth automating the process?\n",
    "if [10 hours to automate < (15 minutes * 60 times per month)] then automate\n",
    "\n",
    "\n",
    "## 4.A company is looking at automating one of their internal processes and wants to determine if automating a process would save labor time this year. The company uses the formula [time_to_automate < (time_to_perform * amount_of_times_done) to decide whether automation is worthwhile. The process normally takes about 10 minutes every week. The automation process itself will take 40 hours total to complete. Using the formula, how many weeks will it be before the company starts saving time on the process?\n",
    "240 weeks\n",
    "\n",
    "\n",
    "## 5.Which of the following are valid methods to prevent silent automation errors? (Check all that apply)\n",
    "Email notifications about errors\n",
    "Internal issue tracker entries\n",
    "Regular consistency checks"
   ]
  }
 ],
 "metadata": {
  "kernelspec": {
   "display_name": "Python 3 (ipykernel)",
   "language": "python",
   "name": "python3"
  },
  "language_info": {
   "codemirror_mode": {
    "name": "ipython",
    "version": 3
   },
   "file_extension": ".py",
   "mimetype": "text/x-python",
   "name": "python",
   "nbconvert_exporter": "python",
   "pygments_lexer": "ipython3",
   "version": "3.9.7"
  }
 },
 "nbformat": 4,
 "nbformat_minor": 5
}
