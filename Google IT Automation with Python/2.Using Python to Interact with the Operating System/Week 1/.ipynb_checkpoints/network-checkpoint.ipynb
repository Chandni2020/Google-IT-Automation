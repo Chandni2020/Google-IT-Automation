{
 "cells": [
  {
   "cell_type": "code",
   "execution_count": null,
   "id": "937e1ea8",
   "metadata": {},
   "outputs": [],
   "source": [
    "#!/usr/bin/env python3\n",
    "\n",
    "import requests\n",
    "import socket\n",
    "\n",
    "def check_localhost():\n",
    "    localhost = socket.gethostbyname('localhost')\n",
    "    return localhost == '127.0.0.1'\n",
    "\n",
    "def check_connectivity():\n",
    "    request = requests.get(\"http://www.google.com\")\n",
    "    return request.status_code == 200"
   ]
  }
 ],
 "metadata": {
  "kernelspec": {
   "display_name": "Python 3 (ipykernel)",
   "language": "python",
   "name": "python3"
  },
  "language_info": {
   "codemirror_mode": {
    "name": "ipython",
    "version": 3
   },
   "file_extension": ".py",
   "mimetype": "text/x-python",
   "name": "python",
   "nbconvert_exporter": "python",
   "pygments_lexer": "ipython3",
   "version": "3.9.7"
  }
 },
 "nbformat": 4,
 "nbformat_minor": 5
}
