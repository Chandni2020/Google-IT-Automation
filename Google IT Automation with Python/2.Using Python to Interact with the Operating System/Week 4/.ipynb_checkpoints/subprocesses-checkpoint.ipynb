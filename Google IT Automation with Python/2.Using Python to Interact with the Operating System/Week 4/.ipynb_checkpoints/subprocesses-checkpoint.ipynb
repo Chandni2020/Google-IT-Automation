{
 "cells": [
  {
   "cell_type": "code",
   "execution_count": null,
   "id": "eccd518b",
   "metadata": {},
   "outputs": [],
   "source": [
    "import subprocess\n",
    "\n",
    "subprocess.run([\"date\"])\n",
    "subprocess.run([\"sleep\",\"2\"])\n",
    "subprocess.run([\"ls\",\"file_not_exist\"])\n",
    "\n",
    "\n",
    "\n",
    "result = subprocess.run([\"ping\",\"8.8.8.8\"],capture_output=True)\n",
    "\n",
    "print(result.stdout.decode())\n",
    "\n",
    "result = subprocess.run([\"rm\",\"not_exist_file\"], capture_output=True)\n",
    "print(type(result))\n",
    "print(result.returncode)\n",
    "print(result.stdout.decode())\n",
    "print(result.stderr.decode())"
   ]
  }
 ],
 "metadata": {
  "kernelspec": {
   "display_name": "Python 3 (ipykernel)",
   "language": "python",
   "name": "python3"
  },
  "language_info": {
   "codemirror_mode": {
    "name": "ipython",
    "version": 3
   },
   "file_extension": ".py",
   "mimetype": "text/x-python",
   "name": "python",
   "nbconvert_exporter": "python",
   "pygments_lexer": "ipython3",
   "version": "3.9.7"
  }
 },
 "nbformat": 4,
 "nbformat_minor": 5
}
