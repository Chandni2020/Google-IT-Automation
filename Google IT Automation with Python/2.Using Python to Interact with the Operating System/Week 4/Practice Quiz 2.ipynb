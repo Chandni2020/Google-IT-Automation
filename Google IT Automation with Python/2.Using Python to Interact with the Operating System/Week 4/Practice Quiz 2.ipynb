{
 "cells": [
  {
   "cell_type": "markdown",
   "id": "30e65f36",
   "metadata": {},
   "source": [
    "## Practice Quiz 2: Python Subprocesses"
   ]
  },
  {
   "cell_type": "markdown",
   "id": "5b96ae38",
   "metadata": {},
   "source": [
    "## 1.What type of object does a run function return?\n",
    "CompletedProcess\n",
    "\n",
    "## 2.How can you change the current working directory where a command will be executed?\n",
    "Use the cwd parameter.\n",
    "\n",
    "## 3.When a child process is run using the subprocess module, which of the following are true? (check all that apply)\n",
    "The child process is run in a secondary environment. The parent process is blocked while the child process finishes. Control is returned to the parent process when the child process ends.\n",
    "\n",
    "## 4.When using the run command of the subprocess module, what parameter, when set to True, allows us to store the output of a system command?\n",
    "capture_output\n",
    "\n",
    "## 5.What does the copy method of os.environ do?\n",
    "Creates a new dictionary of environment variables"
   ]
  },
  {
   "cell_type": "code",
   "execution_count": null,
   "id": "4f943abc",
   "metadata": {},
   "outputs": [],
   "source": []
  }
 ],
 "metadata": {
  "kernelspec": {
   "display_name": "Python 3 (ipykernel)",
   "language": "python",
   "name": "python3"
  },
  "language_info": {
   "codemirror_mode": {
    "name": "ipython",
    "version": 3
   },
   "file_extension": ".py",
   "mimetype": "text/x-python",
   "name": "python",
   "nbconvert_exporter": "python",
   "pygments_lexer": "ipython3",
   "version": "3.9.7"
  }
 },
 "nbformat": 4,
 "nbformat_minor": 5
}
