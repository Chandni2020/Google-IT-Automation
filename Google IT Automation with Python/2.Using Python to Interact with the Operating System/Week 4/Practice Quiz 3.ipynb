{
 "cells": [
  {
   "cell_type": "markdown",
   "id": "8382d012",
   "metadata": {},
   "source": [
    "# Practice Quiz: Processing Log Files\n",
    "\n",
    "\n",
    "## 1.You have created a Python script to read a log of users running CRON jobs. The script needs to accept a command line argument for the path to the log file. Which line of code accomplishes this?\n",
    "syslog=sys.argv[1]\n",
    "\n",
    "## 2.Which of the following is a data structure that can be used to count how many times a specific error appears in a log?\n",
    "Dictionary\n",
    "\n",
    "## 3.Which keyword will return control back to the top of a loop when iterating through logs?\n",
    "Continue\n",
    "\n",
    "## 4.When searching log files using regex, which regex statement will search for the alphanumeric word \"IP\" followed by one or more digits wrapped in parentheses using a capturing group?\n",
    "r\"IP \\((\\d+)\\)$\"\n",
    "\n",
    "## 5.Which of the following are true about parsing log files? (Select all that apply.)\n",
    "You should parse log files line by line. It is efficient to ignore lines that don't contain the information we need. We have to open() the log files first."
   ]
  },
  {
   "cell_type": "code",
   "execution_count": null,
   "id": "26713597",
   "metadata": {},
   "outputs": [],
   "source": []
  }
 ],
 "metadata": {
  "kernelspec": {
   "display_name": "Python 3 (ipykernel)",
   "language": "python",
   "name": "python3"
  },
  "language_info": {
   "codemirror_mode": {
    "name": "ipython",
    "version": 3
   },
   "file_extension": ".py",
   "mimetype": "text/x-python",
   "name": "python",
   "nbconvert_exporter": "python",
   "pygments_lexer": "ipython3",
   "version": "3.9.7"
  }
 },
 "nbformat": 4,
 "nbformat_minor": 5
}
