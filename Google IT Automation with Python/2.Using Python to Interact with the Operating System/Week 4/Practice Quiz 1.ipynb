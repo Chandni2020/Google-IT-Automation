{
 "cells": [
  {
   "cell_type": "markdown",
   "id": "85c487f5",
   "metadata": {},
   "source": [
    "# Practice Quiz: Data Streams\n",
    "\n",
    "## 1.Which command will print out the exit value of a script that just ran successfully?\n",
    "echo $?\n",
    "\n",
    "## 2.Which command will create a new environment variable?\n",
    "export\n",
    "\n",
    "## 3.Which I/O stream are we using when we use the input function to accept user input in a Python script?\n",
    "STDIN\n",
    "\n",
    "## 4.What is the meaning of an exit code of 0?\n",
    "The program ended successfully.\n",
    "\n",
    "## 5.Which statements are true about input and raw_input in Python 2? (select all that apply)\n",
    "input performs basic math operations. raw_input gets a string from the user."
   ]
  },
  {
   "cell_type": "code",
   "execution_count": null,
   "id": "a9fb4c44",
   "metadata": {},
   "outputs": [],
   "source": []
  }
 ],
 "metadata": {
  "kernelspec": {
   "display_name": "Python 3 (ipykernel)",
   "language": "python",
   "name": "python3"
  },
  "language_info": {
   "codemirror_mode": {
    "name": "ipython",
    "version": 3
   },
   "file_extension": ".py",
   "mimetype": "text/x-python",
   "name": "python",
   "nbconvert_exporter": "python",
   "pygments_lexer": "ipython3",
   "version": "3.9.7"
  }
 },
 "nbformat": 4,
 "nbformat_minor": 5
}
