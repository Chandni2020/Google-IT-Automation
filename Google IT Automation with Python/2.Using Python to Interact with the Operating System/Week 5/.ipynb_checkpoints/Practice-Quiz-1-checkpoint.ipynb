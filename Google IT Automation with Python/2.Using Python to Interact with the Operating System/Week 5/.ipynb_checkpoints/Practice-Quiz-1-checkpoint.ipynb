{
 "cells": [
  {
   "cell_type": "markdown",
   "id": "e6a878b0",
   "metadata": {},
   "source": [
    "# Practice Quiz: Simple Tests\n",
    "\n",
    "## 1.You can verify that software code behaves correctly using test ___.\n",
    "Cases\n",
    "\n",
    "## 2.What is the most basic way of testing a script?\n",
    "Different parameters with expected results.\n",
    "\n",
    "## 3.When a test is codified into its own software, what kind of test is it?\n",
    "Automatic test\n",
    "\n",
    "## 4.Using _____ simplifies the testing process, allowing us to verify the program's behavior repeatedly with many possible values.\n",
    "test cases\n",
    "\n",
    "## 5.The more complex our code becomes, the more value the use of _____ provides in managing errors.\n",
    "software testing"
   ]
  }
 ],
 "metadata": {
  "kernelspec": {
   "display_name": "Python 3 (ipykernel)",
   "language": "python",
   "name": "python3"
  },
  "language_info": {
   "codemirror_mode": {
    "name": "ipython",
    "version": 3
   },
   "file_extension": ".py",
   "mimetype": "text/x-python",
   "name": "python",
   "nbconvert_exporter": "python",
   "pygments_lexer": "ipython3",
   "version": "3.9.7"
  }
 },
 "nbformat": 4,
 "nbformat_minor": 5
}
