{
 "cells": [
  {
   "cell_type": "code",
   "execution_count": null,
   "id": "222242e8",
   "metadata": {},
   "outputs": [],
   "source": [
    "#!/usr/bin/env python3\n",
    "import unittest\n",
    "from emails import find_email\n",
    "\n",
    "class EmailsTest(unittest.TestCase):\n",
    "    def test_basic(self):\n",
    "        testcase = [None, \"Bree\", \"Campbell\"]\n",
    "        expected = \"breee@abc.edu\"\n",
    "        self.assertEqual(find_email(testcase), expected)\n",
    "\n",
    "    def test_one_name(self):\n",
    "        testcase = [None, \"John\"]\n",
    "        expected = \"Missing parameters\"\n",
    "        self.assertEqual(find_email(testcase), expected)\n",
    "\n",
    "    def test_two_name(self):\n",
    "        testcase = [None, \"Roy\",\"Cooper\"]\n",
    "        expected = \"No email address found\"\n",
    "        self.assertEqual(find_email(testcase), expected)\n",
    "\n",
    "if __name__ == '__main__':\n",
    "    unittest.main()"
   ]
  }
 ],
 "metadata": {
  "kernelspec": {
   "display_name": "Python 3 (ipykernel)",
   "language": "python",
   "name": "python3"
  },
  "language_info": {
   "codemirror_mode": {
    "name": "ipython",
    "version": 3
   },
   "file_extension": ".py",
   "mimetype": "text/x-python",
   "name": "python",
   "nbconvert_exporter": "python",
   "pygments_lexer": "ipython3",
   "version": "3.9.7"
  }
 },
 "nbformat": 4,
 "nbformat_minor": 5
}
