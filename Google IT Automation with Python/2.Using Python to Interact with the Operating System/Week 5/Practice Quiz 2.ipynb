{
 "cells": [
  {
   "cell_type": "markdown",
   "id": "576821e1",
   "metadata": {},
   "source": [
    "# Practice Quiz: Other Test Concepts\n",
    "\n",
    "## 1. In what type of test is the code not transparent?\n",
    "Black-box test\n",
    "\n",
    "## 2.Verifying an automation script works well with the overall system and external entities describes what type of test?\n",
    "Integration test\n",
    "\n",
    "## 3._____ ensures that any success or failure of a unit test is caused by the behavior of the unit in question, and doesn't result from some external factor.\n",
    "Isolation\n",
    "\n",
    "## 4.A test that is written after a bug has been identified in order to ensure the bug doesn't show up again later is called _____\n",
    "Regression test\n",
    "\n",
    "## 5.What type of software testing is used to verify the software’s ability to behave well under significantly stressed testing conditions?\n",
    "Load test"
   ]
  },
  {
   "cell_type": "code",
   "execution_count": null,
   "id": "38a29cdc",
   "metadata": {},
   "outputs": [],
   "source": []
  }
 ],
 "metadata": {
  "kernelspec": {
   "display_name": "Python 3 (ipykernel)",
   "language": "python",
   "name": "python3"
  },
  "language_info": {
   "codemirror_mode": {
    "name": "ipython",
    "version": 3
   },
   "file_extension": ".py",
   "mimetype": "text/x-python",
   "name": "python",
   "nbconvert_exporter": "python",
   "pygments_lexer": "ipython3",
   "version": "3.9.7"
  }
 },
 "nbformat": 4,
 "nbformat_minor": 5
}
