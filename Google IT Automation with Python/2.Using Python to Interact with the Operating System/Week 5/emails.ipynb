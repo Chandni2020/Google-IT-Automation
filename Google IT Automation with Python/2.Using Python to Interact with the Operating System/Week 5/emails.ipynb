{
 "cells": [
  {
   "cell_type": "code",
   "execution_count": null,
   "id": "bc9c0939",
   "metadata": {},
   "outputs": [],
   "source": [
    "#!/usr/bin/env python3\n",
    "\n",
    "import sys\n",
    "import csv\n",
    "\n",
    "def populate_dictionary(filename):\n",
    "    \"\"\"Populate a dictionary with name/email pairs for easy lookup.\"\"\"\n",
    "    email_dict = {}\n",
    "    with open(filename) as csvfile:\n",
    "        lines = csv.reader(csvfile, delimiter = ',')\n",
    "        for row in lines:\n",
    "            name = str(row[0].lower())\n",
    "            email_dict[name] = row[1]\n",
    "    return email_dict\n",
    "\n",
    "def find_email(argv):\n",
    "    \"\"\" Return an email address based on the username given.\"\"\"\n",
    "    # Create the username based on the command line input.\n",
    "    try:\n",
    "        fullname = str(argv[1] + \" \" + argv[2])\n",
    "        # Preprocess the data\n",
    "        email_dict = populate_dictionary('/home/student-02-9ce27c095c34/data/user_emails.csv')\n",
    "        # Find and print the email\n",
    "        if email_dict.get(fullname.lower()):\n",
    "            return email_dict.get(fullname.lower())\n",
    "        else:\n",
    "            return \"No email address found\"\n",
    "    except IndexError:\n",
    "        return \"Missing parameters\"\n",
    "\n",
    "def main():\n",
    "    print(find_email(sys.argv))\n",
    "\n",
    "if __name__ == \"__main__\":\n",
    "    main()"
   ]
  }
 ],
 "metadata": {
  "kernelspec": {
   "display_name": "Python 3 (ipykernel)",
   "language": "python",
   "name": "python3"
  },
  "language_info": {
   "codemirror_mode": {
    "name": "ipython",
    "version": 3
   },
   "file_extension": ".py",
   "mimetype": "text/x-python",
   "name": "python",
   "nbconvert_exporter": "python",
   "pygments_lexer": "ipython3",
   "version": "3.9.7"
  }
 },
 "nbformat": 4,
 "nbformat_minor": 5
}
