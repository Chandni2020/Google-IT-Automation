{
 "cells": [
  {
   "cell_type": "markdown",
   "id": "18793dc2",
   "metadata": {},
   "source": [
    "# Practice Quiz: Bash Scripting\n",
    "\n",
    "## 1.Which of the following commands will output a list of all files in the current directory?\n",
    "echo *\n",
    "\n",
    "## 2.Which module can you load in a Python script to take advantage of star [*] like in BASH?\n",
    "Glob\n",
    "\n",
    "## 3.Conditional execution is based on the _____ of commands.\n",
    "exit status\n",
    "\n",
    "## 4.What command evaluates the conditions received on exit to verify that there is an exit status of 0 when the conditions are true, and 1 when they are false?\n",
    "test\n",
    "\n",
    "## 5.The opening square bracket ([), when combined with the closing square bracket (]), is an alias for which command?\n",
    "test"
   ]
  },
  {
   "cell_type": "code",
   "execution_count": null,
   "id": "64aeeec3",
   "metadata": {},
   "outputs": [],
   "source": []
  }
 ],
 "metadata": {
  "kernelspec": {
   "display_name": "Python 3 (ipykernel)",
   "language": "python",
   "name": "python3"
  },
  "language_info": {
   "codemirror_mode": {
    "name": "ipython",
    "version": 3
   },
   "file_extension": ".py",
   "mimetype": "text/x-python",
   "name": "python",
   "nbconvert_exporter": "python",
   "pygments_lexer": "ipython3",
   "version": "3.9.7"
  }
 },
 "nbformat": 4,
 "nbformat_minor": 5
}
