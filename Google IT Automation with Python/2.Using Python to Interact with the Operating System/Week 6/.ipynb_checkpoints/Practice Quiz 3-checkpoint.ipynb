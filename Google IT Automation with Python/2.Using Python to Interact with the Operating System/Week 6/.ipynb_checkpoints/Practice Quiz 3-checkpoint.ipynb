{
 "cells": [
  {
   "cell_type": "markdown",
   "id": "f773ecbc",
   "metadata": {},
   "source": [
    "# Practice Quiz - Advanced Bash Concepts\n",
    "\n",
    "## 1.Which command does the while loop initiate a task(s) after?\n",
    "do\n",
    "\n",
    "## 2.Which line is correctly written to start a FOR loop with a sample.txt file?\n",
    "for file in sample.txt; do\n",
    "\n",
    "## 3.Which of the following Bash lines contains the condition of taking an action when n is less than or equal to 9?\n",
    "while [ $n -le 9 ]; do\n",
    "\n",
    "## 4.Which of the following statements are true regarding Bash and Python? [Check all that apply]\n",
    "Complex scripts are better suited to Python.\n",
    "Python can more easily operate on strings, lists, and dictionaries.\n",
    "If a script requires testing, Python is preferable.\n",
    "\n",
    "## 5.The _____ command lets us take only bits of each line using a field delimiter.\n",
    "cut"
   ]
  },
  {
   "cell_type": "code",
   "execution_count": null,
   "id": "7b160cd2",
   "metadata": {},
   "outputs": [],
   "source": []
  }
 ],
 "metadata": {
  "kernelspec": {
   "display_name": "Python 3 (ipykernel)",
   "language": "python",
   "name": "python3"
  },
  "language_info": {
   "codemirror_mode": {
    "name": "ipython",
    "version": 3
   },
   "file_extension": ".py",
   "mimetype": "text/x-python",
   "name": "python",
   "nbconvert_exporter": "python",
   "pygments_lexer": "ipython3",
   "version": "3.9.7"
  }
 },
 "nbformat": 4,
 "nbformat_minor": 5
}
