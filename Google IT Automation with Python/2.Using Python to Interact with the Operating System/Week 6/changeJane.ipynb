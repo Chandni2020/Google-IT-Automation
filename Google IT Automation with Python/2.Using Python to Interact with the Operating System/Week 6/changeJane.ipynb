{
 "cells": [
  {
   "cell_type": "code",
   "execution_count": null,
   "id": "d6eea67d",
   "metadata": {},
   "outputs": [],
   "source": [
    "#!/usr/bin/env python3\n",
    "\n",
    "import sys\n",
    "import subprocess\n",
    "\n",
    "with open(sys.argv[1]) as file:\n",
    "    lines = file.readlines()\n",
    "    for line in lines:\n",
    "        oldvalue = line.strip()\n",
    "        newvalue = oldvalue.replace(\"jane\", \"jdoe\")\n",
    "        subprocess.run([\"mv\", oldvalue, newvalue])\n",
    "file.close()\n",
    "Footer\n"
   ]
  }
 ],
 "metadata": {
  "kernelspec": {
   "display_name": "Python 3 (ipykernel)",
   "language": "python",
   "name": "python3"
  },
  "language_info": {
   "codemirror_mode": {
    "name": "ipython",
    "version": 3
   },
   "file_extension": ".py",
   "mimetype": "text/x-python",
   "name": "python",
   "nbconvert_exporter": "python",
   "pygments_lexer": "ipython3",
   "version": "3.9.7"
  }
 },
 "nbformat": 4,
 "nbformat_minor": 5
}
