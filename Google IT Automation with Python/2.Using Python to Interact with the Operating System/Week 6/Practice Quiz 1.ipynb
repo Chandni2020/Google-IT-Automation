{
 "cells": [
  {
   "cell_type": "markdown",
   "id": "54a90bef",
   "metadata": {},
   "source": [
    "# Practice Quiz: Interacting with the Command Line\n",
    "\n",
    "## 1.Which of the following commands will redirect errors in a script to a file?\n",
    "user@ubuntu:~$ ./calculator.py 2> error_file.txt\n",
    "\n",
    "## 2.When running a kill command in a terminal, what type of signal is being sent to the process?\n",
    "SIGTERM\n",
    "\n",
    "## 3.What is required in order to read from standard input using Python?\n",
    "Stdin file object from sys module\n",
    "\n",
    "## 4._____ are tokens delivered to running processes to indicate a desired action.\n",
    "Signals\n",
    "\n",
    "## 5. In Linux, what command is used to display the contents of a directory?\n",
    "ls"
   ]
  },
  {
   "cell_type": "code",
   "execution_count": null,
   "id": "70add0ad",
   "metadata": {},
   "outputs": [],
   "source": []
  }
 ],
 "metadata": {
  "kernelspec": {
   "display_name": "Python 3 (ipykernel)",
   "language": "python",
   "name": "python3"
  },
  "language_info": {
   "codemirror_mode": {
    "name": "ipython",
    "version": 3
   },
   "file_extension": ".py",
   "mimetype": "text/x-python",
   "name": "python",
   "nbconvert_exporter": "python",
   "pygments_lexer": "ipython3",
   "version": "3.9.7"
  }
 },
 "nbformat": 4,
 "nbformat_minor": 5
}
