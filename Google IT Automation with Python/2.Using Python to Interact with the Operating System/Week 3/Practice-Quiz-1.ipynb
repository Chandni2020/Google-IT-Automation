{
 "cells": [
  {
   "cell_type": "markdown",
   "id": "b0d37303",
   "metadata": {},
   "source": [
    "# Practice Quiz 1: Regular Expressions"
   ]
  },
  {
   "cell_type": "markdown",
   "id": "063bb907",
   "metadata": {},
   "source": [
    "## 1.When using regular expressions, which of the following expressions uses a reserved character that can represent any single character?\n",
    "re.findall(f.n, text)\n",
    "\n",
    "## 2.Which of the following is NOT a function of the Python regex module?\n",
    "re.grep()\n",
    "\n",
    "## 3.The circumflex [^] and the dollar sign [$] are anchor characters. What do these anchor characters do in regex?\n",
    "Match the start and end of a line\n",
    "\n"
   ]
  },
  {
   "cell_type": "markdown",
   "id": "1f243d15",
   "metadata": {},
   "source": [
    "## 4.When using regex, some characters represent particular types of characters. Some examples are the dollar sign, the circumflex, and the dot wildcard. What are these characters collectively known as?\n",
    "Special characters\n",
    "\n",
    "## 5.What is grep?\n",
    "A command-line regex tool"
   ]
  }
 ],
 "metadata": {
  "kernelspec": {
   "display_name": "Python 3 (ipykernel)",
   "language": "python",
   "name": "python3"
  },
  "language_info": {
   "codemirror_mode": {
    "name": "ipython",
    "version": 3
   },
   "file_extension": ".py",
   "mimetype": "text/x-python",
   "name": "python",
   "nbconvert_exporter": "python",
   "pygments_lexer": "ipython3",
   "version": "3.9.7"
  }
 },
 "nbformat": 4,
 "nbformat_minor": 5
}
