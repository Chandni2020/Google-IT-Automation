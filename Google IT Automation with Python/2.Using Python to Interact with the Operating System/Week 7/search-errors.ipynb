{
 "cells": [
  {
   "cell_type": "code",
   "execution_count": null,
   "id": "179754f7",
   "metadata": {},
   "outputs": [],
   "source": [
    "#!/usr/bin/env python\n",
    "import operator\n",
    "import re\n",
    "line = \"May 27 11:45:40 ubuntu.local ticky: INFO: Created ticket [#1234] (username)\"\n",
    "match = re.search(r\"ticky: (INFO|ERROR): ([\\w ]*) \\[.*\\] \\(([\\w ]*)\\)\", line)\n",
    "print (match[1],match[2],match[3])\n",
    "###############################################################\n",
    "\n",
    "fruit = {\"oranges\": (3,4), \"apples\": (5,4), \"bananas\": (7,3), \"pears\": (2,5)}\n",
    "sorted(fruit.items())\n",
    "\n",
    "print([(key, *val)for key, val in sorted(fruit.items(), key = operator.itemgetter(0))] )\n",
    "#sort by key\n",
    "sorted(fruit.items(), key=operator.itemgetter(0))\n",
    "# sort by value\n",
    "sorted(fruit.items(), key=operator.itemgetter(1))\n",
    "# sort by value reversed \n",
    "sorted(fruit.items(), key = operator.itemgetter(1), reverse=True)"
   ]
  }
 ],
 "metadata": {
  "kernelspec": {
   "display_name": "Python 3 (ipykernel)",
   "language": "python",
   "name": "python3"
  },
  "language_info": {
   "codemirror_mode": {
    "name": "ipython",
    "version": 3
   },
   "file_extension": ".py",
   "mimetype": "text/x-python",
   "name": "python",
   "nbconvert_exporter": "python",
   "pygments_lexer": "ipython3",
   "version": "3.9.7"
  }
 },
 "nbformat": 4,
 "nbformat_minor": 5
}
