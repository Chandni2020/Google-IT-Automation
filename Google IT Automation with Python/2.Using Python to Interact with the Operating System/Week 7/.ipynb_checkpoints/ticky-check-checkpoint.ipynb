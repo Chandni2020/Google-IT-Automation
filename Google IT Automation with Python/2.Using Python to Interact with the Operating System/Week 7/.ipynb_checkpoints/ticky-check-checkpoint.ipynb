{
 "cells": [
  {
   "cell_type": "code",
   "execution_count": null,
   "id": "dc6478f7",
   "metadata": {},
   "outputs": [],
   "source": [
    "#!/usr/bin/env python3\n",
    "\n",
    "import re\n",
    "import operator\n",
    "import csv\n",
    "\n",
    "# number of different error messages\n",
    "errors ={}\n",
    "#each user (splitting between INFO and ERROR).\n",
    "per_user = {}\n",
    "\n",
    "with open(\"syslog.log\") as file:\n",
    "    logs = file.readlines()\n",
    "    for log in logs:\n",
    "        match = re.search(r\"ticky: (INFO|ERROR) (.*) \\((.*)\\)\", log.strip())\n",
    "        if match != None:\n",
    "            log_type = match.group(1)\n",
    "            username = match.group(3).strip()\n",
    "            message = match.group(2).strip()\n",
    "            (old_info,old_error) = per_user.get(username,(0,0))\n",
    "            if log_type == 'ERROR':\n",
    "                errors[message] = errors.get(message,0)+1\n",
    "                old_error +=1\n",
    "            else:\n",
    "                old_info +=1\n",
    "      \n",
    "            per_user[username] = (old_info,old_error)\n",
    "file.close()    \n",
    "\n",
    "\n",
    "errors = sorted(errors.items(), key = operator.itemgetter(1), reverse=True)\n",
    "per_user = [(key,val[0],val[1])for key, val in sorted(per_user.items(), key = operator.itemgetter(0))] \n",
    "\n",
    "with open(\"error_message.csv\", 'w+') as errors_file:   \n",
    "    writer = csv.writer(errors_file)\n",
    "    writer.writerow((\"Error\", \"Count\"))\n",
    "    writer.writerows(errors)\n",
    "errors_file.close()\n",
    "\n",
    "with open(\"user_statistics.csv\", 'w+') as users_file:   \n",
    "    writer = csv.writer(users_file)\n",
    "    writer.writerow((\"Username\", \"INFO\", \"ERROR\"))\n",
    "    writer.writerows(per_user)\n",
    "users_file.close()    "
   ]
  }
 ],
 "metadata": {
  "kernelspec": {
   "display_name": "Python 3 (ipykernel)",
   "language": "python",
   "name": "python3"
  },
  "language_info": {
   "codemirror_mode": {
    "name": "ipython",
    "version": 3
   },
   "file_extension": ".py",
   "mimetype": "text/x-python",
   "name": "python",
   "nbconvert_exporter": "python",
   "pygments_lexer": "ipython3",
   "version": "3.9.7"
  }
 },
 "nbformat": 4,
 "nbformat_minor": 5
}
