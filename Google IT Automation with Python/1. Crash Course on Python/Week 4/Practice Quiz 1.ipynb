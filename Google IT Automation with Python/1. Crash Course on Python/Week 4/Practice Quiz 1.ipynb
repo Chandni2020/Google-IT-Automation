{
 "cells": [
  {
   "cell_type": "markdown",
   "id": "5815fa66",
   "metadata": {},
   "source": [
    "# Practice Quiz 1: Strings"
   ]
  },
  {
   "cell_type": "markdown",
   "id": "be348fad",
   "metadata": {},
   "source": [
    "## 1.The is_palindrome function checks if a string is a palindrome. A palindrome is a string that can be equally read from left to right or right to left, omitting blank spaces, and ignoring capitalization. Examples of palindromes are words like kayak and radar, and phrases like \"Never Odd or Even\". Fill in the blanks in this function to return True if the passed string is a palindrome, False if not."
   ]
  },
  {
   "cell_type": "code",
   "execution_count": 1,
   "id": "b9427aa8",
   "metadata": {},
   "outputs": [
    {
     "name": "stdout",
     "output_type": "stream",
     "text": [
      "True\n",
      "False\n",
      "True\n"
     ]
    }
   ],
   "source": [
    "def is_palindrome(input_string):\n",
    "    # We'll create two strings, to compare them\n",
    "    new_string = \"\"\n",
    "    reverse_string = \"\"\n",
    "    # Traverse through each letter of the input string\n",
    "    for char in input_string:\n",
    "        # Add any non-blank letters to the \n",
    "        # end of one string, and to the front\n",
    "        # of the other string. \n",
    "        if char.strip() != '':\n",
    "            new_string = char + new_string\n",
    "            reverse_string = reverse_string + char\n",
    "    # Compare the strings\n",
    "    if new_string.lower() == reverse_string.lower():\n",
    "        return True\n",
    "    return False\n",
    "\n",
    "print(is_palindrome(\"Never Odd or Even\")) # Should be True\n",
    "print(is_palindrome(\"abc\")) # Should be False\n",
    "print(is_palindrome(\"kayak\")) # Should be True"
   ]
  },
  {
   "cell_type": "markdown",
   "id": "a844691e",
   "metadata": {},
   "source": [
    "## 2.Using the format method, fill in the gaps in the convert_distance function so that it returns the phrase \"X miles equals Y km\", with Y having only 1 decimal place. For example, convert_distance(12) should return \"12 miles equals 19.2 km\"."
   ]
  },
  {
   "cell_type": "code",
   "execution_count": 2,
   "id": "2bfdaf4b",
   "metadata": {},
   "outputs": [
    {
     "name": "stdout",
     "output_type": "stream",
     "text": [
      "12 miles equals 19.2 km\n",
      "5.5 miles equals 8.8 km\n",
      "11 miles equals 17.6 km\n"
     ]
    }
   ],
   "source": [
    "def convert_distance(miles):\n",
    "    km = miles * 1.6 \n",
    "    result = \"{} miles equals {:.1f} km\".format(miles, km)\n",
    "    return result\n",
    "\n",
    "print(convert_distance(12)) # Should be: 12 miles equals 19.2 km\n",
    "print(convert_distance(5.5)) # Should be: 5.5 miles equals 8.8 km\n",
    "print(convert_distance(11)) # Should be: 11 miles equals 17.6 km"
   ]
  },
  {
   "cell_type": "markdown",
   "id": "064d4bd3",
   "metadata": {},
   "source": [
    "## 3.If we have a string variable named Weather = \"Rainfall\", which of the following will print the substring or all characters before the \"f\"?"
   ]
  },
  {
   "cell_type": "code",
   "execution_count": 4,
   "id": "c1284cff",
   "metadata": {},
   "outputs": [
    {
     "name": "stdout",
     "output_type": "stream",
     "text": [
      "Rain\n"
     ]
    }
   ],
   "source": [
    "Weather = \"Rainfall\"\n",
    "\n",
    "print(Weather[:4])"
   ]
  },
  {
   "cell_type": "markdown",
   "id": "46099658",
   "metadata": {},
   "source": [
    "## 4.Fill in the gaps in the nametag function so that it uses the format method to return first_name and the first initial of last_name followed by a period. For example, nametag(\"Jane\", \"Smith\") should return \"Jane S.\""
   ]
  },
  {
   "cell_type": "code",
   "execution_count": 5,
   "id": "589000b2",
   "metadata": {},
   "outputs": [
    {
     "name": "stdout",
     "output_type": "stream",
     "text": [
      "Jane S.\n",
      "Francesco R.\n",
      "Jean-Luc G.\n"
     ]
    }
   ],
   "source": [
    "def nametag(first_name, last_name):\n",
    "    return(\"{} {}.\".format(first_name,last_name[:1]))\n",
    "\n",
    "print(nametag(\"Jane\", \"Smith\")) \n",
    "# Should display \"Jane S.\" \n",
    "print(nametag(\"Francesco\", \"Rinaldi\")) \n",
    "# Should display \"Francesco R.\" \n",
    "print(nametag(\"Jean-Luc\", \"Grand-Pierre\")) \n",
    "# Should display \"Jean-Luc G.\" "
   ]
  },
  {
   "cell_type": "markdown",
   "id": "7ad2fea2",
   "metadata": {},
   "source": [
    "## 5.The replace_ending function replaces the old string in a sentence with the new string, but only if the sentence ends with the old string. If there is more than one occurrence of the old string in the sentence, only the one at the end is replaced, not all of them. For example, replace_ending(\"abcabc\", \"abc\", \"xyz\") should return abcxyz, not xyzxyz or xyzabc. The string comparison is case-sensitive, so replace_ending(\"abcabc\", \"ABC\", \"xyz\") should return abcabc (no changes made)."
   ]
  },
  {
   "cell_type": "code",
   "execution_count": 6,
   "id": "658cc197",
   "metadata": {},
   "outputs": [
    {
     "name": "stdout",
     "output_type": "stream",
     "text": [
      "It's raining cats and dogs\n",
      "She sells seashells by the seashore\n",
      "The weather is nice in May\n",
      "The weather is nice in April\n"
     ]
    }
   ],
   "source": [
    "def replace_ending(sentence, old, new):\n",
    "    # Check if the old string is at the end of the sentence \n",
    "    if sentence.endswith(old):\n",
    "        # Using i as the slicing index, combine the part\n",
    "        # of the sentence up to the matched string at the \n",
    "        # end with the new string\n",
    "        i = sentence.rindex(old)\n",
    "        new_sentence = sentence[:i] + new\n",
    "        return new_sentence\n",
    "\n",
    "    # Return the original sentence if there is no match \n",
    "    return sentence\n",
    "    \n",
    "print(replace_ending(\"It's raining cats and cats\", \"cats\", \"dogs\")) \n",
    "# Should display \"It's raining cats and dogs\"\n",
    "print(replace_ending(\"She sells seashells by the seashore\", \"seashells\", \"donuts\")) \n",
    "# Should display \"She sells seashells by the seashore\"\n",
    "print(replace_ending(\"The weather is nice in May\", \"may\", \"april\")) \n",
    "# Should display \"The weather is nice in May\"\n",
    "print(replace_ending(\"The weather is nice in May\", \"May\", \"April\")) \n",
    "# Should display \"The weather is nice in April\""
   ]
  },
  {
   "cell_type": "code",
   "execution_count": null,
   "id": "903d31ce",
   "metadata": {},
   "outputs": [],
   "source": []
  }
 ],
 "metadata": {
  "kernelspec": {
   "display_name": "Python 3 (ipykernel)",
   "language": "python",
   "name": "python3"
  },
  "language_info": {
   "codemirror_mode": {
    "name": "ipython",
    "version": 3
   },
   "file_extension": ".py",
   "mimetype": "text/x-python",
   "name": "python",
   "nbconvert_exporter": "python",
   "pygments_lexer": "ipython3",
   "version": "3.9.7"
  }
 },
 "nbformat": 4,
 "nbformat_minor": 5
}
