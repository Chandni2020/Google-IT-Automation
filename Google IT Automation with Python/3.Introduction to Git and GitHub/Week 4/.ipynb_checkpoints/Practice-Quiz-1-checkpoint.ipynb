{
 "cells": [
  {
   "cell_type": "markdown",
   "id": "ec52ab07",
   "metadata": {},
   "source": [
    "# Practice Quiz: Pull Requests"
   ]
  },
  {
   "cell_type": "markdown",
   "id": "0531849d",
   "metadata": {},
   "source": [
    "## 1.What is the difference between using squash and fixup when rebasing?\n",
    "Squash combines the commit messages into one. Fixup discards the new commit message.\n",
    "\n",
    "## 2.What is a pull request?\n",
    "A request sent to the owner and collaborators of the target repository to pull your recent changes.\n",
    "\n",
    "## 3.Under what circumstances is a new fork created?\n",
    "When you want to experiment with changes without affecting the main repository.\n",
    "\n",
    "## 4.What combination of command and flags will force Git to push the current snapshot to the repo as it is, possibly resulting in permanent data loss?\n",
    "git push -f\n",
    "\n",
    "## 5.When using interactive rebase, which option is the default, and takes the commits and rebases them against the branch we selected?\n",
    "pick"
   ]
  }
 ],
 "metadata": {
  "kernelspec": {
   "display_name": "Python 3 (ipykernel)",
   "language": "python",
   "name": "python3"
  },
  "language_info": {
   "codemirror_mode": {
    "name": "ipython",
    "version": 3
   },
   "file_extension": ".py",
   "mimetype": "text/x-python",
   "name": "python",
   "nbconvert_exporter": "python",
   "pygments_lexer": "ipython3",
   "version": "3.9.7"
  }
 },
 "nbformat": 4,
 "nbformat_minor": 5
}
