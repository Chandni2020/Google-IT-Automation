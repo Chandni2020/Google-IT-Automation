{
 "cells": [
  {
   "cell_type": "markdown",
   "id": "b0d18214",
   "metadata": {},
   "source": [
    "# Practice Quiz: Managing Collaboration"
   ]
  },
  {
   "cell_type": "markdown",
   "id": "df99b214",
   "metadata": {},
   "source": [
    "## 1.How do we reference issues in our commits with automatic links?\n",
    "By using one of the keywords followed by a hashtag and the issue number.\n",
    "\n",
    "## 2.What is an artifact in terms of continuous integration/continuous delivery (CI/CD) pipelines?\n",
    "Any file generated as part of the CI/CD pipeline.\n",
    "\n",
    "## 3.Which of the following statements are good advice for project maintainers? (Check all that apply)\n",
    "Reply promptly to pull-requests\n",
    "\n",
    "Understand any changes you accept\n",
    "\n",
    "Use an issue tracker\n",
    "\n",
    "## 4.Which statement best represents what a Continuous Integration system will do?\n",
    "Run tests automatically\n",
    "\n",
    "## 5.Which statement best represents what a Continuous Delivery (CD) system will do?\n",
    "Update with incremental rollouts\n"
   ]
  }
 ],
 "metadata": {
  "kernelspec": {
   "display_name": "Python 3 (ipykernel)",
   "language": "python",
   "name": "python3"
  },
  "language_info": {
   "codemirror_mode": {
    "name": "ipython",
    "version": 3
   },
   "file_extension": ".py",
   "mimetype": "text/x-python",
   "name": "python",
   "nbconvert_exporter": "python",
   "pygments_lexer": "ipython3",
   "version": "3.9.7"
  }
 },
 "nbformat": 4,
 "nbformat_minor": 5
}
