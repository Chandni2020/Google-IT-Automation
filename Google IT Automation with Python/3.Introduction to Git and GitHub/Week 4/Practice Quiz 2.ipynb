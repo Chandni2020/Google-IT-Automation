{
 "cells": [
  {
   "cell_type": "markdown",
   "id": "a8d0dc1d",
   "metadata": {},
   "source": [
    "# Practice Quiz: Code Reviews"
   ]
  },
  {
   "cell_type": "markdown",
   "id": "448923fd",
   "metadata": {},
   "source": [
    "## 1.When should we respond to comments from collaborators and reviewers?\n",
    "Always\n",
    "\n",
    "## 2.What is a nit?\n",
    "A trivial comment or suggestion\n",
    "\n",
    "## 3.Select common code issues that might be addressed in a code review. (Check all that apply)\n",
    "Using unclear names\n",
    "\n",
    "Forgetting to handle a specific condition\n",
    "\n",
    "Forgetting to add tests\n",
    "\n",
    "## 4.If we've pushed a new version since we've made a recent change, what might our comment be flagged as?\n",
    "Outdated\n",
    "\n",
    "## 5.What are the goals of code review? (Check all that apply)\n",
    "Make sure that the contents are easy to understand\n",
    "\n",
    "Ensure consistent style\n",
    "\n",
    "Ensure we don't forget any important cases"
   ]
  },
  {
   "cell_type": "code",
   "execution_count": null,
   "id": "3efefe2a",
   "metadata": {},
   "outputs": [],
   "source": []
  }
 ],
 "metadata": {
  "kernelspec": {
   "display_name": "Python 3 (ipykernel)",
   "language": "python",
   "name": "python3"
  },
  "language_info": {
   "codemirror_mode": {
    "name": "ipython",
    "version": 3
   },
   "file_extension": ".py",
   "mimetype": "text/x-python",
   "name": "python",
   "nbconvert_exporter": "python",
   "pygments_lexer": "ipython3",
   "version": "3.9.7"
  }
 },
 "nbformat": 4,
 "nbformat_minor": 5
}
