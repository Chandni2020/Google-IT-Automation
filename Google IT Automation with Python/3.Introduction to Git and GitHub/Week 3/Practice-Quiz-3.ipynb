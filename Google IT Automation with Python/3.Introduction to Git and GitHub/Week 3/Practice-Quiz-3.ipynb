{
 "cells": [
  {
   "cell_type": "markdown",
   "id": "ca5585b1",
   "metadata": {},
   "source": [
    "# Practice Quiz: Solving Conflicts"
   ]
  },
  {
   "cell_type": "markdown",
   "id": "54d94954",
   "metadata": {},
   "source": [
    "## 1.If you’re making changes to a local branch while another user has also made changes to the remote branch, which command will trigger a merge?\n",
    "git pull\n",
    "\n",
    "## 2.Which of the following is a reason to use rebase instead of merging?\n",
    "When you want to keep a linear commit history\n",
    "\n",
    "## 3.Where should we keep the latest stable version of the project?\n",
    "A separate branch from the master branch\n",
    "\n",
    "## 4.Which of the following statements represent best practices for collaboration? (check all that apply)\n",
    "When working on a big change, it makes sense to have a separate feature branch.\n",
    "\n",
    "Always synchronize your branches before starting any work on your own.\n",
    "\n",
    "Avoid having very large changes that modify a lot of different things.\n",
    "\n",
    "## 5.What command would we use to change the base of the current branch?\n",
    "git rebase <branchname>"
   ]
  }
 ],
 "metadata": {
  "kernelspec": {
   "display_name": "Python 3 (ipykernel)",
   "language": "python",
   "name": "python3"
  },
  "language_info": {
   "codemirror_mode": {
    "name": "ipython",
    "version": 3
   },
   "file_extension": ".py",
   "mimetype": "text/x-python",
   "name": "python",
   "nbconvert_exporter": "python",
   "pygments_lexer": "ipython3",
   "version": "3.9.7"
  }
 },
 "nbformat": 4,
 "nbformat_minor": 5
}
