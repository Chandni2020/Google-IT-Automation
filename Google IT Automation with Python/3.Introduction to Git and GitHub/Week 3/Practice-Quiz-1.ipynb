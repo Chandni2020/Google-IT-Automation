{
 "cells": [
  {
   "cell_type": "markdown",
   "id": "9fb912ee",
   "metadata": {},
   "source": [
    "# Practice Quiz: Introduction to GitHub"
   ]
  },
  {
   "cell_type": "markdown",
   "id": "2ce05424",
   "metadata": {},
   "source": [
    "## 1.When we want to update our local repository to reflect changes made in the remote repository, which command would we use?\n",
    "git pull\n",
    "\n",
    "## 2.git config --global credential.helper cache allows us to configure the credential helper, which is used for ...what?\n",
    "Allowing automated login to GitHub\n",
    "\n",
    "## 3. Name two ways to avoid having to enter our password when retrieving and when pushing changes to the repo. (Check all that apply)\n",
    "Use a credential helper Create an SSH key-pair\n",
    "\n",
    "## 4. Name the command that gathers all the snapshots we've taken and sends them to the remote repository.\n",
    "git push"
   ]
  }
 ],
 "metadata": {
  "kernelspec": {
   "display_name": "Python 3 (ipykernel)",
   "language": "python",
   "name": "python3"
  },
  "language_info": {
   "codemirror_mode": {
    "name": "ipython",
    "version": 3
   },
   "file_extension": ".py",
   "mimetype": "text/x-python",
   "name": "python",
   "nbconvert_exporter": "python",
   "pygments_lexer": "ipython3",
   "version": "3.9.7"
  }
 },
 "nbformat": 4,
 "nbformat_minor": 5
}
