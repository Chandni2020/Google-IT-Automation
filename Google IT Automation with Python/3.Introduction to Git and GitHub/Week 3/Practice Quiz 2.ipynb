{
 "cells": [
  {
   "cell_type": "markdown",
   "id": "cd4a605f",
   "metadata": {},
   "source": [
    "# Practice Quiz: Using a Remote Repository"
   ]
  },
  {
   "cell_type": "markdown",
   "id": "cb7bc501",
   "metadata": {},
   "source": [
    "\n",
    "## 1.In order to get the contents of a remote branch without automatically merging, which of these commands should we use?\n",
    "git remote update\n",
    "\n",
    "## 2.If we need to find more information about a remote branch, which command will help us?\n",
    "git remote show origin\n",
    "\n",
    "## 3.What command will download remote branches from remote repositories without merging the content with your current workspace automatically?\n",
    "git fetch\n",
    "\n",
    "## 4.What type of merge creates a new merge commit?\n",
    "Explicit merge\n",
    "\n",
    "## 5.What method of getting remote contents will automatically merge the remote branch with the current local branch?\n",
    "git pull"
   ]
  }
 ],
 "metadata": {
  "kernelspec": {
   "display_name": "Python 3 (ipykernel)",
   "language": "python",
   "name": "python3"
  },
  "language_info": {
   "codemirror_mode": {
    "name": "ipython",
    "version": 3
   },
   "file_extension": ".py",
   "mimetype": "text/x-python",
   "name": "python",
   "nbconvert_exporter": "python",
   "pygments_lexer": "ipython3",
   "version": "3.9.7"
  }
 },
 "nbformat": 4,
 "nbformat_minor": 5
}
