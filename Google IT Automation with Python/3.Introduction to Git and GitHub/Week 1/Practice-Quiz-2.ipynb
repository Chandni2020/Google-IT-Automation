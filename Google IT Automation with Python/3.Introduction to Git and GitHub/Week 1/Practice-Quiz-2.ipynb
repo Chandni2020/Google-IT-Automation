{
 "cells": [
  {
   "cell_type": "markdown",
   "id": "05af1cb5",
   "metadata": {},
   "source": [
    "## Practice Quiz: Version Control Systems"
   ]
  },
  {
   "cell_type": "markdown",
   "id": "4d34b4a3",
   "metadata": {},
   "source": [
    "## 1.How can a VCS (Version Control System) come in handy when updating your software, even if you’re a solo programmer? Check all that apply.\n",
    "Git retains local copies of repositories, resulting in fast operations.\n",
    "If something breaks due to a change, you can fix the problem by reverting to a working version before the change.\n",
    "Git allows you to review the history of your project.\n",
    "\n",
    "## 2.Who is the original creator and main developer of the VCS (Version Control System) tool Git?\n",
    "Linus Torvalds\n",
    "\n",
    "## 3._____ is a feature of a software management system that records changes to a file or set of files over time so that you can recall specific versions later.\n",
    "Version control\n",
    "\n",
    "## 4.A _____ is a collection of edits which has been submitted to the version control system for safe keeping.\n",
    "commit\n",
    "\n",
    "## 5.Within a VCS, project files are organized in centralized locations called _____ where they can be called upon later.\n",
    "repositories"
   ]
  }
 ],
 "metadata": {
  "kernelspec": {
   "display_name": "Python 3 (ipykernel)",
   "language": "python",
   "name": "python3"
  },
  "language_info": {
   "codemirror_mode": {
    "name": "ipython",
    "version": 3
   },
   "file_extension": ".py",
   "mimetype": "text/x-python",
   "name": "python",
   "nbconvert_exporter": "python",
   "pygments_lexer": "ipython3",
   "version": "3.9.7"
  }
 },
 "nbformat": 4,
 "nbformat_minor": 5
}
