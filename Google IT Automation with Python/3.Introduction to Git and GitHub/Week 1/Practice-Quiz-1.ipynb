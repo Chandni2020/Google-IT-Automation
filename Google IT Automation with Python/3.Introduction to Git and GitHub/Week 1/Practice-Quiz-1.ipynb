{
 "cells": [
  {
   "cell_type": "markdown",
   "id": "112c009e",
   "metadata": {},
   "source": [
    "# Practice Quiz: Before Version Control"
   ]
  },
  {
   "cell_type": "markdown",
   "id": "14ebddd8",
   "metadata": {},
   "source": [
    "## 1.Your colleague sent you a patch called fix_names.patch, which fixes a config file called fix_names.conf. What command do you need to run to apply the patch to the config file?\n",
    "patch fix_names.conf < fix_names.patch\n",
    "\n",
    "## 2.You're helping a friend with a bug in a script called fix_permissions.py, which fixes the permissions of a bunch of files. To work on the file, you make a copy and call it fix_permissions_modified.py. What command do you need to run after solving the bug to send the patch to your friend?\n",
    "diff fix_permissions.py fix_permissions_modified.py > fix_permissions.patch\n",
    "\n",
    "## 3.The _____ commandhighlights the words that changed in a file instead of working line by line.\n",
    "vimdiff\n",
    "\n",
    "## 4.How can we choose the return value our script returns when it finishes?\n",
    "Using the exit command from the sys module\n",
    "\n",
    "## 5. In addition to the original files, what else do we need before we can use the patch command?\n",
    "Diff file"
   ]
  }
 ],
 "metadata": {
  "kernelspec": {
   "display_name": "Python 3 (ipykernel)",
   "language": "python",
   "name": "python3"
  },
  "language_info": {
   "codemirror_mode": {
    "name": "ipython",
    "version": 3
   },
   "file_extension": ".py",
   "mimetype": "text/x-python",
   "name": "python",
   "nbconvert_exporter": "python",
   "pygments_lexer": "ipython3",
   "version": "3.9.7"
  }
 },
 "nbformat": 4,
 "nbformat_minor": 5
}
