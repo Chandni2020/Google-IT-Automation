{
 "cells": [
  {
   "cell_type": "markdown",
   "id": "aa5bfab4",
   "metadata": {},
   "source": [
    "## Practice Quiz: Using Git"
   ]
  },
  {
   "cell_type": "markdown",
   "id": "6793d239",
   "metadata": {},
   "source": [
    "## 1.Before changes in new files can be added to the Git directory, what command will tell Git to track our file in the list of changes to be committed?\n",
    "git add\n",
    "\n",
    "## 2.Which command would we use to review the commit history for our project?\n",
    "git log\n",
    "\n",
    "## 3.What command would we use to make Git track our file?\n",
    "git add\n",
    "\n",
    "## 4.Which command would we use to look at our config?\n",
    "git config -l\n",
    "\n",
    "## 5.Which command would we use to view pending changes?\n",
    "git status"
   ]
  }
 ],
 "metadata": {
  "kernelspec": {
   "display_name": "Python 3 (ipykernel)",
   "language": "python",
   "name": "python3"
  },
  "language_info": {
   "codemirror_mode": {
    "name": "ipython",
    "version": 3
   },
   "file_extension": ".py",
   "mimetype": "text/x-python",
   "name": "python",
   "nbconvert_exporter": "python",
   "pygments_lexer": "ipython3",
   "version": "3.9.7"
  }
 },
 "nbformat": 4,
 "nbformat_minor": 5
}
