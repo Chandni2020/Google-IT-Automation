{
 "cells": [
  {
   "cell_type": "markdown",
   "id": "cdc7f394",
   "metadata": {},
   "source": [
    "# Practice Quiz: Undoing Things"
   ]
  },
  {
   "cell_type": "markdown",
   "id": "992f3c4b",
   "metadata": {},
   "source": [
    "## 1.Let's say we've made a mistake in our latest commit to a public branch. Which of the following commands is the best option for fixing our mistake?\n",
    "git revert\n",
    "\n",
    "## 2.If we want to rollback a commit on a public branch that wasn't the most recent one using the revert command, what must we do?\n",
    "use the commit ID at the end of the git revert command\n",
    "\n",
    "## 3.What does Git use cryptographic hash keys for?\n",
    "To guarantee the consistency of our repository\n",
    "\n",
    "## 4.What does the command git commit --amend do?\n",
    "Overwrite the previous commit\n",
    "\n",
    "## 5.How can we easily view the log message and diff output the last commit if we don't know the commit ID?\n",
    "git show"
   ]
  }
 ],
 "metadata": {
  "kernelspec": {
   "display_name": "Python 3 (ipykernel)",
   "language": "python",
   "name": "python3"
  },
  "language_info": {
   "codemirror_mode": {
    "name": "ipython",
    "version": 3
   },
   "file_extension": ".py",
   "mimetype": "text/x-python",
   "name": "python",
   "nbconvert_exporter": "python",
   "pygments_lexer": "ipython3",
   "version": "3.9.7"
  }
 },
 "nbformat": 4,
 "nbformat_minor": 5
}
