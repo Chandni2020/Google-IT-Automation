{
 "cells": [
  {
   "cell_type": "markdown",
   "id": "224be93b",
   "metadata": {},
   "source": [
    "# Practice Quiz: Branching & Merging"
   ]
  },
  {
   "cell_type": "markdown",
   "id": "8d9377e0",
   "metadata": {},
   "source": [
    "## 1.When we merge two branches, one of two algorithms is used. If the branches have diverged, which algorithm is used?\n",
    "three-way merge\n",
    "\n",
    "## 2.The following code snippet represents the result of a merge conflict. Edit the code to fix the conflict and keep the version represented by the current branch.\n",
    "print(\"Keep me!\")\n",
    "\n",
    "## 3.What command would we use to throw away a merge, and start over?\n",
    "git merge --abort\n",
    "\n",
    "## 4.How do we display a summarized view of the commit history for a repo, showing one line per commit?\n",
    "git log --graph --oneline"
   ]
  },
  {
   "cell_type": "markdown",
   "id": "63f77244",
   "metadata": {},
   "source": [
    "## 5.The following script contains the result of a merge conflict. Edit the code to fix the conflict, so that both versions are included."
   ]
  },
  {
   "cell_type": "code",
   "execution_count": null,
   "id": "acdf39c3",
   "metadata": {},
   "outputs": [],
   "source": [
    "def main():\n",
    "    print(\"Start of program>>>>>>>\")\n",
    "    print(\"End of program!\")\n",
    "\n",
    "main()"
   ]
  }
 ],
 "metadata": {
  "kernelspec": {
   "display_name": "Python 3 (ipykernel)",
   "language": "python",
   "name": "python3"
  },
  "language_info": {
   "codemirror_mode": {
    "name": "ipython",
    "version": 3
   },
   "file_extension": ".py",
   "mimetype": "text/x-python",
   "name": "python",
   "nbconvert_exporter": "python",
   "pygments_lexer": "ipython3",
   "version": "3.9.7"
  }
 },
 "nbformat": 4,
 "nbformat_minor": 5
}
