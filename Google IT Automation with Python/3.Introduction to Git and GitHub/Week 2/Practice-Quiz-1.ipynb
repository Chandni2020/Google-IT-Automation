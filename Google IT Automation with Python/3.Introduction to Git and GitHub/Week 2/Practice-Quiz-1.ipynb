{
 "cells": [
  {
   "cell_type": "markdown",
   "id": "58c51a3a",
   "metadata": {},
   "source": [
    "## Practice Quiz: Advanced Git Interaction"
   ]
  },
  {
   "cell_type": "markdown",
   "id": "1d55d1e2",
   "metadata": {},
   "source": [
    "## 1.Which of the following commands is NOT an example of a method for comparing or reviewing the changes made to a file?\n",
    "git mv\n",
    "\n",
    "## 2.What is the gitignore file?\n",
    "A file containing a list of files or filename patterns for Git to skip for the current repo.\n",
    "\n",
    "## 3.What kind of file will the command git commit -a not commit?\n",
    "New files\n",
    "\n",
    "## 4.What does HEAD represent in Git?\n",
    "The currently checked-out snapshot of your project\n",
    "\n",
    "## 5.If we want to show some stats about the changes in a commit, like which files were changed and how many lines were added or removed, what flag should we add to git log?\n",
    "--stat"
   ]
  }
 ],
 "metadata": {
  "kernelspec": {
   "display_name": "Python 3 (ipykernel)",
   "language": "python",
   "name": "python3"
  },
  "language_info": {
   "codemirror_mode": {
    "name": "ipython",
    "version": 3
   },
   "file_extension": ".py",
   "mimetype": "text/x-python",
   "name": "python",
   "nbconvert_exporter": "python",
   "pygments_lexer": "ipython3",
   "version": "3.9.7"
  }
 },
 "nbformat": 4,
 "nbformat_minor": 5
}
